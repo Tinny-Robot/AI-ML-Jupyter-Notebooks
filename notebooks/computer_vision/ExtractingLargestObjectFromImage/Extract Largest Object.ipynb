{
 "cells": [
  {
   "cell_type": "markdown",
   "id": "256ca864-274e-453b-9cc6-7db096456c0b",
   "metadata": {},
   "source": [
    "## Welcome to the AI-ML-Jupyter-Notebooks repository! \n",
    "### This guide will help you navigate and learn Image Processing with OpenCV by Extracting Largest Object from any provided PNG/JPEG Image.\n",
    "----"
   ]
  },
  {
   "cell_type": "markdown",
   "id": "c4befa28-26be-4e3e-aee9-fa1fcf142ae3",
   "metadata": {},
   "source": [
    "#### Make sure to inastall necessary dependencies by running this command :\n",
    "pip install -r requirements.txt"
   ]
  },
  {
   "cell_type": "code",
   "execution_count": null,
   "id": "9a6cf773-9f1c-4276-a115-0713bc2ed9ee",
   "metadata": {},
   "outputs": [],
   "source": [
    "# Importing Necessary Library\n",
    "import cv2\n",
    "import numpy as np\n",
    "import matplotlib.pyplot as plt"
   ]
  },
  {
   "cell_type": "code",
   "execution_count": null,
   "id": "5ee4f11a-4685-4a92-b945-95014dbedf1e",
   "metadata": {},
   "outputs": [],
   "source": [
    "# Function Used to Display Original and Extracted Object side-by-side\n",
    "def images_on_side(img_1,label_1,img_2,label_2):\n",
    "    fig, (ax1, ax2) = plt.subplots(1, 2, figsize=(12, 24))\n",
    "    ax1.imshow(img_1)\n",
    "    ax1.set_title(label_1)\n",
    "    ax2.imshow(img_2)\n",
    "    ax2.set_title(label_2)\n",
    "    plt.show()"
   ]
  },
  {
   "cell_type": "code",
   "execution_count": null,
   "id": "db82f799-9363-48ee-8348-70e96ce1fd99",
   "metadata": {},
   "outputs": [],
   "source": [
    "# Defing Path where Image Is\n",
    "# eg.: C:\\Users\\UserName\\Desktop\\ImageName.png\n",
    "image_path = 'path_to_image\\filename'"
   ]
  },
  {
   "cell_type": "code",
   "execution_count": null,
   "id": "3ea00275-e79a-43e9-bded-db547711bf33",
   "metadata": {},
   "outputs": [],
   "source": [
    "# Read the image\n",
    "img = cv2.imread(image_path)"
   ]
  },
  {
   "cell_type": "code",
   "execution_count": null,
   "id": "b1c07bbf-b655-4d4b-9656-453a7ebcd2c4",
   "metadata": {},
   "outputs": [],
   "source": [
    "# Convert image to grayscale\n",
    "gray_img = cv2.cvtColor(img, cv2.COLOR_BGR2GRAY)"
   ]
  },
  {
   "cell_type": "code",
   "execution_count": null,
   "id": "6bed965c-7da8-4d08-beca-ff3c291e253c",
   "metadata": {},
   "outputs": [],
   "source": [
    "# Threshold the image to get a binary mask\n",
    "_, thresholded = cv2.threshold(gray_img, 135, 255, cv2.THRESH_BINARY)"
   ]
  },
  {
   "cell_type": "code",
   "execution_count": null,
   "id": "4c0dc49c-8e3e-494f-b56a-6f03d695fce4",
   "metadata": {},
   "outputs": [],
   "source": [
    "'''\n",
    "Perform morphological closing\n",
    "If you don't get desired results\n",
    "    - lower kernel_size to detect smaller objects\n",
    "    - increase kernel_size to detect bigger objects\n",
    "'''\n",
    "kernel_size = 5\n",
    "kernel = np.ones((kernel_size, kernel_size), np.uint8)\n",
    "closed_img = cv2.morphologyEx(thresholded, cv2.MORPH_CLOSE, kernel)"
   ]
  },
  {
   "cell_type": "code",
   "execution_count": null,
   "id": "c661b921-4903-4352-bf45-3670aa5841b3",
   "metadata": {},
   "outputs": [],
   "source": [
    "# Find contours\n",
    "contours, _ = cv2.findContours(closed_img, cv2.RETR_EXTERNAL, cv2.CHAIN_APPROX_SIMPLE)\n",
    "# Identify the largest contour\n",
    "largest_contour = max(contours, key=cv2.contourArea)"
   ]
  },
  {
   "cell_type": "code",
   "execution_count": null,
   "id": "eb41a5ce-7fd4-4029-b0a1-9c84d55efe94",
   "metadata": {},
   "outputs": [],
   "source": [
    "# Create an empty mask and draw the largest contour onto it\n",
    "contour_mask = np.zeros_like(thresholded)\n",
    "cv2.drawContours(contour_mask, [largest_contour], -1, (255), thickness=cv2.FILLED)"
   ]
  },
  {
   "cell_type": "code",
   "execution_count": null,
   "id": "7b12f5d0-ce52-40cb-a792-c44847dc5d96",
   "metadata": {},
   "outputs": [],
   "source": [
    "# Dilate the mask slightly\n",
    "dilated_mask = cv2.dilate(contour_mask, kernel, iterations=1)"
   ]
  },
  {
   "cell_type": "code",
   "execution_count": null,
   "id": "b8aad0f9-73b5-4320-bf05-6b135b7e997a",
   "metadata": {},
   "outputs": [],
   "source": [
    "# Use the mask to extract the largest object from the original image\n",
    "extracted_object = cv2.bitwise_and(img, img, mask=dilated_mask)"
   ]
  },
  {
   "cell_type": "code",
   "execution_count": null,
   "id": "da02c7d7-55ec-4808-8131-6da5273cb3f4",
   "metadata": {},
   "outputs": [],
   "source": [
    "# View the Extracted Object\n",
    "images_on_side(img,'Original Image',extracted_object,'Extracted Object')"
   ]
  },
  {
   "cell_type": "markdown",
   "id": "50100770-7225-4fdd-82f7-ff07f9fc4f29",
   "metadata": {},
   "source": [
    "##### More At : https://github.com/iSiddharth20/DeepLearning-ImageClassification-Toolkit"
   ]
  }
 ],
 "metadata": {
  "kernelspec": {
   "display_name": "Python 3 (ipykernel)",
   "language": "python",
   "name": "python3"
  },
  "language_info": {
   "codemirror_mode": {
    "name": "ipython",
    "version": 3
   },
   "file_extension": ".py",
   "mimetype": "text/x-python",
   "name": "python",
   "nbconvert_exporter": "python",
   "pygments_lexer": "ipython3",
   "version": "3.11.5"
  }
 },
 "nbformat": 4,
 "nbformat_minor": 5
}
