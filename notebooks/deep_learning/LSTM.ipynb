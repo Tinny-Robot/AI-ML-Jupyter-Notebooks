{
 "cells": [
  {
   "cell_type": "code",
   "execution_count": 1,
   "metadata": {},
   "outputs": [],
   "source": [
    "import pandas as pd"
   ]
  },
  {
   "cell_type": "code",
   "execution_count": 2,
   "metadata": {},
   "outputs": [],
   "source": [
    "df = pd.read_csv(\"index.csv\")"
   ]
  },
  {
   "cell_type": "code",
   "execution_count": 3,
   "metadata": {},
   "outputs": [],
   "source": [
    "X = df.drop(columns = [\"Creditability\"])\n",
    "y = df['Creditability']"
   ]
  },
  {
   "cell_type": "code",
   "execution_count": 4,
   "metadata": {},
   "outputs": [],
   "source": [
    "from sklearn.model_selection import train_test_split\n",
    "X_train, X_test, y_train, y_test = train_test_split(X, y, test_size=0.33, random_state=42)"
   ]
  },
  {
   "cell_type": "code",
   "execution_count": 5,
   "metadata": {},
   "outputs": [],
   "source": [
    "from sklearn.preprocessing import StandardScaler\n",
    "sc=StandardScaler()"
   ]
  },
  {
   "cell_type": "code",
   "execution_count": 6,
   "metadata": {},
   "outputs": [],
   "source": [
    "train_x=sc.fit_transform(X_train)\n",
    "test_x=sc.fit_transform(X_test)"
   ]
  },
  {
   "cell_type": "code",
   "execution_count": 7,
   "metadata": {},
   "outputs": [],
   "source": [
    "X_train = train_x\n",
    "X_test = test_x"
   ]
  },
  {
   "cell_type": "code",
   "execution_count": 8,
   "metadata": {},
   "outputs": [],
   "source": [
    "X_train = X_train.reshape(X_train.shape[0], X_train.shape[1], 1)\n",
    "X_test = X_test.reshape(X_test.shape[0], X_test.shape[1], 1)"
   ]
  },
  {
   "cell_type": "code",
   "execution_count": 9,
   "metadata": {},
   "outputs": [],
   "source": [
    "y_train = y_train.to_numpy()\n",
    "y_test = y_test.to_numpy()"
   ]
  },
  {
   "cell_type": "code",
   "execution_count": 11,
   "metadata": {},
   "outputs": [
    {
     "name": "stdout",
     "output_type": "stream",
     "text": [
      "2.0.0\n"
     ]
    }
   ],
   "source": [
    "import tensorflow as tf\n",
    "from tensorflow import keras\n",
    "from tensorflow.keras import Sequential\n",
    "from tensorflow.keras.layers import Flatten, Dense, Dropout, BatchNormalization\n",
    "from tensorflow.keras.layers import Conv1D, MaxPool1D, LSTM\n",
    "from tensorflow.keras.optimizers import Adam\n",
    "print(tf.__version__)"
   ]
  },
  {
   "cell_type": "code",
   "execution_count": 13,
   "metadata": {},
   "outputs": [],
   "source": [
    "epochs = 2\n",
    "model = Sequential()\n",
    "model.add(LSTM(32, activation='relu', input_shape = X_train[0].shape))\n",
    "model.add(BatchNormalization())\n",
    "model.add(Dropout(0.2))\n",
    "model.add(Dense(32, activation='relu'))\n",
    "model.add(Dropout(0.5))\n",
    "model.add(Dense(1, activation='sigmoid'))\n",
    "model.compile(loss='binary_crossentropy', optimizer='rmsprop', metrics=['accuracy'])"
   ]
  },
  {
   "cell_type": "code",
   "execution_count": 14,
   "metadata": {},
   "outputs": [
    {
     "name": "stdout",
     "output_type": "stream",
     "text": [
      "Model: \"sequential_1\"\n",
      "_________________________________________________________________\n",
      "Layer (type)                 Output Shape              Param #   \n",
      "=================================================================\n",
      "lstm (LSTM)                  (None, 32)                4352      \n",
      "_________________________________________________________________\n",
      "batch_normalization (BatchNo (None, 32)                128       \n",
      "_________________________________________________________________\n",
      "dropout (Dropout)            (None, 32)                0         \n",
      "_________________________________________________________________\n",
      "dense (Dense)                (None, 32)                1056      \n",
      "_________________________________________________________________\n",
      "dropout_1 (Dropout)          (None, 32)                0         \n",
      "_________________________________________________________________\n",
      "dense_1 (Dense)              (None, 1)                 33        \n",
      "=================================================================\n",
      "Total params: 5,569\n",
      "Trainable params: 5,505\n",
      "Non-trainable params: 64\n",
      "_________________________________________________________________\n"
     ]
    }
   ],
   "source": [
    "model.summary()"
   ]
  },
  {
   "cell_type": "code",
   "execution_count": 15,
   "metadata": {},
   "outputs": [],
   "source": [
    "model.compile(optimizer=Adam(lr=0.0001), loss = 'binary_crossentropy', metrics=['accuracy'])"
   ]
  },
  {
   "cell_type": "code",
   "execution_count": 16,
   "metadata": {},
   "outputs": [
    {
     "name": "stdout",
     "output_type": "stream",
     "text": [
      "Train on 670 samples, validate on 330 samples\n",
      "Epoch 1/2\n",
      "670/670 [==============================] - 3s 5ms/sample - loss: 0.7176 - accuracy: 0.5328 - val_loss: 0.6907 - val_accuracy: 0.5758\n",
      "Epoch 2/2\n",
      "670/670 [==============================] - 0s 498us/sample - loss: 0.7194 - accuracy: 0.5224 - val_loss: 0.6890 - val_accuracy: 0.6576\n"
     ]
    },
    {
     "data": {
      "text/plain": [
       "<tensorflow.python.keras.callbacks.History at 0x7f86c0643cf8>"
      ]
     },
     "execution_count": 16,
     "metadata": {},
     "output_type": "execute_result"
    }
   ],
   "source": [
    "model.fit(X_train, y_train, epochs=epochs, validation_data=(X_test, y_test), verbose=1)"
   ]
  },
  {
   "cell_type": "code",
   "execution_count": 17,
   "metadata": {},
   "outputs": [
    {
     "data": {
      "text/plain": [
       "array([[0.49951282],\n",
       "       [0.5059244 ],\n",
       "       [0.51092327],\n",
       "       [0.50444627],\n",
       "       [0.49722722],\n",
       "       [0.50104135],\n",
       "       [0.5000357 ],\n",
       "       [0.50875443],\n",
       "       [0.5060254 ],\n",
       "       [0.5025681 ],\n",
       "       [0.50752604],\n",
       "       [0.5007153 ],\n",
       "       [0.5051992 ],\n",
       "       [0.50780046],\n",
       "       [0.51294774],\n",
       "       [0.50932795],\n",
       "       [0.5103603 ],\n",
       "       [0.51022565],\n",
       "       [0.5017758 ],\n",
       "       [0.50342315],\n",
       "       [0.50542265],\n",
       "       [0.49562234],\n",
       "       [0.5075791 ],\n",
       "       [0.5090464 ],\n",
       "       [0.5042642 ],\n",
       "       [0.5064531 ],\n",
       "       [0.51089877],\n",
       "       [0.5054694 ],\n",
       "       [0.49928054],\n",
       "       [0.5051818 ],\n",
       "       [0.5003625 ],\n",
       "       [0.50163394],\n",
       "       [0.50169617],\n",
       "       [0.5082048 ],\n",
       "       [0.5115789 ],\n",
       "       [0.50754166],\n",
       "       [0.5143276 ],\n",
       "       [0.49782434],\n",
       "       [0.50907886],\n",
       "       [0.5076088 ],\n",
       "       [0.50484854],\n",
       "       [0.5118314 ],\n",
       "       [0.5114018 ],\n",
       "       [0.5083698 ],\n",
       "       [0.5066297 ],\n",
       "       [0.50645715],\n",
       "       [0.50817883],\n",
       "       [0.50953776],\n",
       "       [0.4993485 ],\n",
       "       [0.50340736],\n",
       "       [0.5089311 ],\n",
       "       [0.5014691 ],\n",
       "       [0.50471103],\n",
       "       [0.5066039 ],\n",
       "       [0.5080731 ],\n",
       "       [0.5067282 ],\n",
       "       [0.49637136],\n",
       "       [0.5058775 ],\n",
       "       [0.50878865],\n",
       "       [0.5034506 ],\n",
       "       [0.5102989 ],\n",
       "       [0.49636096],\n",
       "       [0.51051664],\n",
       "       [0.5023349 ],\n",
       "       [0.50708616],\n",
       "       [0.5112699 ],\n",
       "       [0.50864476],\n",
       "       [0.5103585 ],\n",
       "       [0.5016882 ],\n",
       "       [0.5073175 ],\n",
       "       [0.50367665],\n",
       "       [0.50488913],\n",
       "       [0.5087933 ],\n",
       "       [0.5099644 ],\n",
       "       [0.5067342 ],\n",
       "       [0.50837284],\n",
       "       [0.50545007],\n",
       "       [0.50136214],\n",
       "       [0.5101836 ],\n",
       "       [0.5097068 ],\n",
       "       [0.51156175],\n",
       "       [0.5023691 ],\n",
       "       [0.50820684],\n",
       "       [0.5038787 ],\n",
       "       [0.50660604],\n",
       "       [0.5088231 ],\n",
       "       [0.50064844],\n",
       "       [0.5092856 ],\n",
       "       [0.50964826],\n",
       "       [0.50626165],\n",
       "       [0.49888438],\n",
       "       [0.50255126],\n",
       "       [0.5089324 ],\n",
       "       [0.5083563 ],\n",
       "       [0.5063013 ],\n",
       "       [0.5077841 ],\n",
       "       [0.5037055 ],\n",
       "       [0.5052837 ],\n",
       "       [0.49718663],\n",
       "       [0.5046457 ],\n",
       "       [0.4981749 ],\n",
       "       [0.49828398],\n",
       "       [0.5100388 ],\n",
       "       [0.509444  ],\n",
       "       [0.50979304],\n",
       "       [0.49938774],\n",
       "       [0.50923604],\n",
       "       [0.50667876],\n",
       "       [0.5083396 ],\n",
       "       [0.50883955],\n",
       "       [0.4992439 ],\n",
       "       [0.5034518 ],\n",
       "       [0.49972013],\n",
       "       [0.5051442 ],\n",
       "       [0.5017308 ],\n",
       "       [0.5094211 ],\n",
       "       [0.5066628 ],\n",
       "       [0.5051575 ],\n",
       "       [0.50930214],\n",
       "       [0.5068015 ],\n",
       "       [0.5054764 ],\n",
       "       [0.50322336],\n",
       "       [0.5100048 ],\n",
       "       [0.5112855 ],\n",
       "       [0.5126378 ],\n",
       "       [0.5044914 ],\n",
       "       [0.50853664],\n",
       "       [0.5079399 ],\n",
       "       [0.504086  ],\n",
       "       [0.5081378 ],\n",
       "       [0.5082056 ],\n",
       "       [0.49588573],\n",
       "       [0.50665563],\n",
       "       [0.5110008 ],\n",
       "       [0.50715613],\n",
       "       [0.49967226],\n",
       "       [0.5021969 ],\n",
       "       [0.50751483],\n",
       "       [0.5070226 ],\n",
       "       [0.50647837],\n",
       "       [0.50411236],\n",
       "       [0.5062671 ],\n",
       "       [0.5029019 ],\n",
       "       [0.51040083],\n",
       "       [0.5081014 ],\n",
       "       [0.5069166 ],\n",
       "       [0.50414646],\n",
       "       [0.50947607],\n",
       "       [0.5082269 ],\n",
       "       [0.5085294 ],\n",
       "       [0.5073247 ],\n",
       "       [0.5082499 ],\n",
       "       [0.5013436 ],\n",
       "       [0.51129   ],\n",
       "       [0.5089762 ],\n",
       "       [0.50465953],\n",
       "       [0.50763875],\n",
       "       [0.5082254 ],\n",
       "       [0.50330824],\n",
       "       [0.5045865 ],\n",
       "       [0.5061069 ],\n",
       "       [0.50860775],\n",
       "       [0.5070191 ],\n",
       "       [0.5065735 ],\n",
       "       [0.499753  ],\n",
       "       [0.51047236],\n",
       "       [0.5129754 ],\n",
       "       [0.51064444],\n",
       "       [0.5020866 ],\n",
       "       [0.49892476],\n",
       "       [0.51043713],\n",
       "       [0.5016924 ],\n",
       "       [0.5047477 ],\n",
       "       [0.50974405],\n",
       "       [0.49946907],\n",
       "       [0.5106211 ],\n",
       "       [0.4995141 ],\n",
       "       [0.509055  ],\n",
       "       [0.5102518 ],\n",
       "       [0.50806594],\n",
       "       [0.50723934],\n",
       "       [0.5102157 ],\n",
       "       [0.49939686],\n",
       "       [0.5106121 ],\n",
       "       [0.5096451 ],\n",
       "       [0.5094768 ],\n",
       "       [0.50265294],\n",
       "       [0.506138  ],\n",
       "       [0.508791  ],\n",
       "       [0.5058977 ],\n",
       "       [0.50592226],\n",
       "       [0.50910294],\n",
       "       [0.50365764],\n",
       "       [0.50979155],\n",
       "       [0.5028059 ],\n",
       "       [0.50623715],\n",
       "       [0.5053961 ],\n",
       "       [0.49768808],\n",
       "       [0.50918406],\n",
       "       [0.5013002 ],\n",
       "       [0.5042736 ],\n",
       "       [0.5041725 ],\n",
       "       [0.5011154 ],\n",
       "       [0.5059771 ],\n",
       "       [0.50372875],\n",
       "       [0.50645566],\n",
       "       [0.49910396],\n",
       "       [0.49960244],\n",
       "       [0.50375724],\n",
       "       [0.5094527 ],\n",
       "       [0.50740725],\n",
       "       [0.50923663],\n",
       "       [0.51069516],\n",
       "       [0.50232494],\n",
       "       [0.5057257 ],\n",
       "       [0.5068723 ],\n",
       "       [0.5086795 ],\n",
       "       [0.50792724],\n",
       "       [0.5103685 ],\n",
       "       [0.5078713 ],\n",
       "       [0.5114532 ],\n",
       "       [0.50122464],\n",
       "       [0.5095844 ],\n",
       "       [0.50282323],\n",
       "       [0.510191  ],\n",
       "       [0.51273066],\n",
       "       [0.5048797 ],\n",
       "       [0.5044309 ],\n",
       "       [0.5101955 ],\n",
       "       [0.5060909 ],\n",
       "       [0.5011564 ],\n",
       "       [0.5050354 ],\n",
       "       [0.5098326 ],\n",
       "       [0.5033906 ],\n",
       "       [0.50829977],\n",
       "       [0.50161916],\n",
       "       [0.50905484],\n",
       "       [0.5099664 ],\n",
       "       [0.50827354],\n",
       "       [0.5098233 ],\n",
       "       [0.5042132 ],\n",
       "       [0.504282  ],\n",
       "       [0.510084  ],\n",
       "       [0.5046218 ],\n",
       "       [0.5097743 ],\n",
       "       [0.5066063 ],\n",
       "       [0.50429374],\n",
       "       [0.5020264 ],\n",
       "       [0.50616044],\n",
       "       [0.5045933 ],\n",
       "       [0.50170344],\n",
       "       [0.4983276 ],\n",
       "       [0.51229435],\n",
       "       [0.50255704],\n",
       "       [0.5092947 ],\n",
       "       [0.5040266 ],\n",
       "       [0.5051545 ],\n",
       "       [0.51009756],\n",
       "       [0.5084809 ],\n",
       "       [0.5041223 ],\n",
       "       [0.4962954 ],\n",
       "       [0.5006149 ],\n",
       "       [0.5027519 ],\n",
       "       [0.50871104],\n",
       "       [0.50481653],\n",
       "       [0.5068357 ],\n",
       "       [0.50968087],\n",
       "       [0.5100914 ],\n",
       "       [0.5005314 ],\n",
       "       [0.5121999 ],\n",
       "       [0.50864947],\n",
       "       [0.5011311 ],\n",
       "       [0.5035939 ],\n",
       "       [0.5031296 ],\n",
       "       [0.5076793 ],\n",
       "       [0.5143737 ],\n",
       "       [0.49524248],\n",
       "       [0.51065624],\n",
       "       [0.50218475],\n",
       "       [0.51009065],\n",
       "       [0.50386494],\n",
       "       [0.5101669 ],\n",
       "       [0.5076261 ],\n",
       "       [0.50622654],\n",
       "       [0.50604236],\n",
       "       [0.49713472],\n",
       "       [0.50166017],\n",
       "       [0.50972927],\n",
       "       [0.50930023],\n",
       "       [0.5113481 ],\n",
       "       [0.5128438 ],\n",
       "       [0.50905526],\n",
       "       [0.5014495 ],\n",
       "       [0.515424  ],\n",
       "       [0.5068319 ],\n",
       "       [0.50944376],\n",
       "       [0.5037246 ],\n",
       "       [0.5086827 ],\n",
       "       [0.50447863],\n",
       "       [0.50945705],\n",
       "       [0.4972667 ],\n",
       "       [0.5045916 ],\n",
       "       [0.50725484],\n",
       "       [0.5023409 ],\n",
       "       [0.5075863 ],\n",
       "       [0.5075937 ],\n",
       "       [0.5007575 ],\n",
       "       [0.5038117 ],\n",
       "       [0.50421965],\n",
       "       [0.50812817],\n",
       "       [0.50688565],\n",
       "       [0.50673765],\n",
       "       [0.50871545],\n",
       "       [0.50581783],\n",
       "       [0.49939638],\n",
       "       [0.499424  ],\n",
       "       [0.51184905],\n",
       "       [0.5020542 ],\n",
       "       [0.5010477 ],\n",
       "       [0.50605077],\n",
       "       [0.50720924],\n",
       "       [0.5029425 ],\n",
       "       [0.5081021 ],\n",
       "       [0.495906  ],\n",
       "       [0.505363  ],\n",
       "       [0.50162005],\n",
       "       [0.50013155],\n",
       "       [0.50740516],\n",
       "       [0.50918734],\n",
       "       [0.5090782 ]], dtype=float32)"
      ]
     },
     "execution_count": 17,
     "metadata": {},
     "output_type": "execute_result"
    }
   ],
   "source": [
    "Y_pred = model.predict(X_test)\n",
    "Y_pred"
   ]
  },
  {
   "cell_type": "code",
   "execution_count": 18,
   "metadata": {},
   "outputs": [],
   "source": [
    "Y_pred = (Y_pred > 0.5)"
   ]
  },
  {
   "cell_type": "code",
   "execution_count": 19,
   "metadata": {},
   "outputs": [],
   "source": [
    "from sklearn.metrics import precision_score, recall_score, f1_score, accuracy_score\n",
    "from sklearn.metrics import confusion_matrix\n",
    "import pandas as pd\n",
    "import numpy as np\n",
    "import matplotlib.pyplot as plt\n",
    "import seaborn as sns"
   ]
  },
  {
   "cell_type": "code",
   "execution_count": 20,
   "metadata": {},
   "outputs": [],
   "source": [
    "cm_lstm = confusion_matrix(y_test, Y_pred)"
   ]
  },
  {
   "cell_type": "code",
   "execution_count": 21,
   "metadata": {},
   "outputs": [
    {
     "data": {
      "image/png": "[encoded data removed]",
      "text/plain": [
       "<Figure size 432x288 with 1 Axes>"
      ]
     },
     "metadata": {
      "needs_background": "light"
     },
     "output_type": "display_data"
    }
   ],
   "source": [
    "plt.clf()\n",
    "plt.imshow(cm_lstm, interpolation='nearest', cmap=plt.cm.Wistia)\n",
    "classNames = ['Negative','Positive']\n",
    "plt.title('LSTM')\n",
    "plt.ylabel('True label')\n",
    "plt.xlabel('Predicted label')\n",
    "tick_marks = np.arange(len(classNames))\n",
    "plt.xticks(tick_marks, classNames, rotation=45)\n",
    "plt.yticks(tick_marks, classNames)\n",
    "s = [['TN','FP'], ['FN', 'TP']]\n",
    "for i in range(2):\n",
    "    for j in range(2):\n",
    "        plt.text(j,i, str(s[i][j])+\" = \"+str(cm_lstm[i][j]))\n",
    "plt.show()"
   ]
  },
  {
   "cell_type": "code",
   "execution_count": 22,
   "metadata": {},
   "outputs": [
    {
     "name": "stdout",
     "output_type": "stream",
     "text": [
      "precision = 0.7003367003367004\n",
      "recall = 0.896551724137931\n",
      "accuracy = 0.6575757575757576\n",
      "F1 Score = 0.7863894139886579\n"
     ]
    }
   ],
   "source": [
    "precision_ann = precision_score(y_test, Y_pred)\n",
    "print(\"precision = \"+str(precision_ann))\n",
    "recall_ann = recall_score(y_test, Y_pred)\n",
    "print(\"recall = \"+ str(recall_ann))\n",
    "accuracy_ann = accuracy_score(y_test, Y_pred)\n",
    "print(\"accuracy = \"+ str(accuracy_ann))\n",
    "F1_score_ann = f1_score(y_test, Y_pred)\n",
    "print(\"F1 Score = \"+ str(F1_score_ann))"
   ]
  },
  {
   "cell_type": "code",
   "execution_count": 23,
   "metadata": {},
   "outputs": [],
   "source": [
    "tn, fp, fn, tp = cm_lstm.ravel()"
   ]
  },
  {
   "cell_type": "code",
   "execution_count": 24,
   "metadata": {},
   "outputs": [
    {
     "name": "stdout",
     "output_type": "stream",
     "text": [
      "specificity =0.09183673469387756\n"
     ]
    }
   ],
   "source": [
    "specificity = (tn)/(tn+fp)\n",
    "print(\"specificity =\"+ str(specificity))"
   ]
  },
  {
   "cell_type": "code",
   "execution_count": null,
   "metadata": {},
   "outputs": [],
   "source": []
  },
  {
   "cell_type": "code",
   "execution_count": null,
   "metadata": {},
   "outputs": [],
   "source": [
    "import pandas as pd\n",
    "\n",
    "df = pd.read_csv(\"index.csv\")\n",
    "\n",
    "df.head()\n",
    "\n",
    "X = df.drop(columns = [\"Creditability\"])\n",
    "y = df['Creditability']\n",
    "\n",
    "from sklearn.model_selection import train_test_split\n",
    "X_train, X_test, y_train, y_test = train_test_split(X, y, test_size=0.33, random_state=42)\n",
    "\n",
    "from sklearn.preprocessing import StandardScaler\n",
    "sc=StandardScaler()\n",
    "\n",
    "train_x=sc.fit_transform(X_train)\n",
    "test_x=sc.fit_transform(X_test)\n",
    "\n",
    "X_train = train_x\n",
    "X_test = test_x\n",
    "\n",
    "X_train = X_train.reshape(X_train.shape[0], X_train.shape[1], 1)\n",
    "X_test = X_test.reshape(X_test.shape[0], X_test.shape[1], 1)\n",
    "\n",
    "X_train.shape\n",
    "\n",
    "y_train = y_train.to_numpy()\n",
    "\n",
    "y_train\n",
    "\n",
    "y_test = y_test.to_numpy()\n",
    "\n",
    "y_test\n",
    "\n",
    "import tensorflow as tf\n",
    "from tensorflow import keras\n",
    "from tensorflow.keras import Sequential\n",
    "from tensorflow.keras.layers import Flatten, Dense, Dropout, BatchNormalization\n",
    "from tensorflow.keras.layers import Conv1D, MaxPool1D\n",
    "from tensorflow.keras.optimizers import Adam\n",
    "print(tf.__version__)\n",
    "\n",
    "#BatchNormalization() -> DIVIDE INTO MINI BATCHED AND STANDARDISES FOR TRAINING\n",
    "#DROPOUT -> DROPPING THE NUMBER OF % OF NEURONS WHICH ARE NOT UPDATING THERE WEIGHTS DURING TRAINING\n",
    "#FLATTEN -> FULLY CONNECTED LAYER \n",
    "epochs = 50\n",
    "model = Sequential()\n",
    "model.add(Conv1D(32, 2, activation='relu', input_shape = X_train[0].shape))\n",
    "model.add(BatchNormalization())\n",
    "model.add(Dropout(0.2))\n",
    "\n",
    "model.add(Conv1D(64, 2, activation='relu'))\n",
    "model.add(BatchNormalization())\n",
    "model.add(Dropout(0.5))\n",
    "\n",
    "model.add(Flatten())\n",
    "model.add(Dense(64, activation='relu'))\n",
    "model.add(Dropout(0.5))\n",
    "\n",
    "model.add(Dense(1, activation='sigmoid'))\n",
    "\n",
    "model.summary()\n",
    "\n",
    "model.compile(optimizer=Adam(lr=0.0001), loss = 'binary_crossentropy', metrics=['accuracy'])\n",
    "\n",
    "model.fit(X_train, y_train, epochs=epochs, validation_data=(X_test, y_test), verbose=1)\n",
    "\n",
    "Y_pred = model.predict(X_test)\n",
    "\n",
    "Y_pred = (Y_pred > 0.5)\n",
    "\n",
    "Y_pred\n",
    "\n",
    "from sklearn.metrics import precision_score, recall_score, f1_score, accuracy_score\n",
    "from sklearn.metrics import confusion_matrix\n",
    "\n",
    "confusion_matrix(Y_pred,y_test)\n",
    "\n",
    "cm_cnn = confusion_matrix(y_test, Y_pred)\n",
    "\n",
    "precision_ann = precision_score(y_test, Y_pred)\n",
    "print(\"precision = \"+str(precision_ann))\n",
    "recall_ann = recall_score(y_test, Y_pred)\n",
    "print(\"recall = \"+ str(recall_ann))\n",
    "accuracy_ann = accuracy_score(y_test, Y_pred)\n",
    "print(\"accuracy = \"+ str(accuracy_ann))\n",
    "F1_score_ann = f1_score(y_test, Y_pred)\n",
    "print(\"F1 Score = \"+ str(F1_score_ann))\n",
    "\n",
    "tn, fp, fn, tp = cm_cnn.ravel()\n",
    "\n",
    "specificity = (tn)/(tn+fp)\n",
    "print(\"specificity =\"+ str(specificity))\n",
    "\n"
   ]
  }
 ],
 "metadata": {
  "kernelspec": {
   "display_name": "Python 3",
   "language": "python",
   "name": "python3"
  },
  "language_info": {
   "codemirror_mode": {
    "name": "ipython",
    "version": 3
   },
   "file_extension": ".py",
   "mimetype": "text/x-python",
   "name": "python",
   "nbconvert_exporter": "python",
   "pygments_lexer": "ipython3",
   "version": "3.7.3"
  }
 },
 "nbformat": 4,
 "nbformat_minor": 2
}
