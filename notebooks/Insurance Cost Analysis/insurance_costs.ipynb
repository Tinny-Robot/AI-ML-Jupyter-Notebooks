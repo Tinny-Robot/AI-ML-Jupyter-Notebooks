{
 "cells": [
  {
   "cell_type": "markdown",
   "id": "5fe7891c-8be6-4ed5-a69d-6908286dc847",
   "metadata": {},
   "source": [
    "### *As part of my course in IBM DATA SCIENCE PROFESSIONAL CERTIFICATE, specifically in Data Analysis with Python, I would like to share my knowledge with you.*\n",
    "### *In this notebook, we will analyze data about medical insurance costs, specifically the impact of certain factors such us smoking and bmi, on the increase in insurance costs. The project objectives and instructions are derived from the practice project for the course*\n",
    "## By: **[Abdessamad Touzani](https://www.linkedin.com/in/abdessamadtouzani/)**\n",
    "#### **Let's connect on LinkedIn!**"
   ]
  },
  {
   "cell_type": "markdown",
   "id": "26c715be-722d-420b-a671-f39513866161",
   "metadata": {},
   "source": [
    "## **Objectives**\n",
    "In this project, you will:\n",
    " - Load the data as a `pandas` dataframe\n",
    " - Clean the data, taking care of the blank entries\n",
    " - Run exploratory data analysis (EDA) and identify the attributes that most affect the `charges`\n",
    " - Develop single variable and multi variable Linear Regression models for predicting the `charges`\n",
    " - Use Ridge regression to refine the performance of Linear regression models. "
   ]
  },
  {
   "cell_type": "code",
   "execution_count": 2,
   "id": "1da0a388-23a4-4b6e-babf-a975fdf6dd69",
   "metadata": {},
   "outputs": [
    {
     "name": "stdout",
     "output_type": "stream",
     "text": [
      "Done\n"
     ]
    }
   ],
   "source": [
    "#import required models\n",
    "import pandas as pd\n",
    "import matplotlib.pyplot as plt\n",
    "import numpy as np\n",
    "import seaborn as sns\n",
    "from sklearn.pipeline import Pipeline\n",
    "from sklearn.preprocessing import StandardScaler, PolynomialFeatures\n",
    "from sklearn.linear_model import LinearRegression, Ridge\n",
    "from sklearn.metrics import mean_squared_error, r2_score\n",
    "from sklearn.model_selection import cross_val_score, train_test_split\n",
    "print(\"Done\")"
   ]
  },
  {
   "cell_type": "markdown",
   "id": "06c7dc8c-7a00-4812-bfbb-2e96ad0cd754",
   "metadata": {},
   "source": [
    "# **I) Import Data Set**"
   ]
  },
  {
   "cell_type": "markdown",
   "id": "02a015fb-2afe-4a35-8d3b-fcdadfd2c20e",
   "metadata": {},
   "source": [
    "### **Please note that I used the link provided for me from the course, but if any, you can use the not clean dataset, that I donwloaded for you, instead of getting it from the url...**"
   ]
  },
  {
   "cell_type": "code",
   "execution_count": 12,
   "id": "e1725d28-84dc-4205-9013-e14e1a7e4c68",
   "metadata": {},
   "outputs": [],
   "source": [
    "url = ...#please consider using the not clean data I uploaded with the notebook..."
   ]
  },
  {
   "cell_type": "code",
   "execution_count": 13,
   "id": "d467ff26-5ced-4161-98fc-53cf6e932f2a",
   "metadata": {},
   "outputs": [],
   "source": [
    "df = pd.read_csv(url, header = None)"
   ]
  },
  {
   "cell_type": "code",
   "execution_count": 14,
   "id": "a464ee6a-3c34-4855-998e-28dcf81581b0",
   "metadata": {},
   "outputs": [
    {
     "data": {
      "text/html": [
       "<div>\n",
       "<style scoped>\n",
       "    .dataframe tbody tr th:only-of-type {\n",
       "        vertical-align: middle;\n",
       "    }\n",
       "\n",
       "    .dataframe tbody tr th {\n",
       "        vertical-align: top;\n",
       "    }\n",
       "\n",
       "    .dataframe thead th {\n",
       "        text-align: right;\n",
       "    }\n",
       "</style>\n",
       "<table border=\"1\" class=\"dataframe\">\n",
       "  <thead>\n",
       "    <tr style=\"text-align: right;\">\n",
       "      <th></th>\n",
       "      <th>0</th>\n",
       "      <th>1</th>\n",
       "      <th>2</th>\n",
       "      <th>3</th>\n",
       "      <th>4</th>\n",
       "      <th>5</th>\n",
       "      <th>6</th>\n",
       "    </tr>\n",
       "  </thead>\n",
       "  <tbody>\n",
       "    <tr>\n",
       "      <th>0</th>\n",
       "      <td>19</td>\n",
       "      <td>1</td>\n",
       "      <td>27.900</td>\n",
       "      <td>0</td>\n",
       "      <td>1</td>\n",
       "      <td>3</td>\n",
       "      <td>16884.92400</td>\n",
       "    </tr>\n",
       "    <tr>\n",
       "      <th>1</th>\n",
       "      <td>18</td>\n",
       "      <td>2</td>\n",
       "      <td>33.770</td>\n",
       "      <td>1</td>\n",
       "      <td>0</td>\n",
       "      <td>4</td>\n",
       "      <td>1725.55230</td>\n",
       "    </tr>\n",
       "    <tr>\n",
       "      <th>2</th>\n",
       "      <td>28</td>\n",
       "      <td>2</td>\n",
       "      <td>33.000</td>\n",
       "      <td>3</td>\n",
       "      <td>0</td>\n",
       "      <td>4</td>\n",
       "      <td>4449.46200</td>\n",
       "    </tr>\n",
       "    <tr>\n",
       "      <th>3</th>\n",
       "      <td>33</td>\n",
       "      <td>2</td>\n",
       "      <td>22.705</td>\n",
       "      <td>0</td>\n",
       "      <td>0</td>\n",
       "      <td>1</td>\n",
       "      <td>21984.47061</td>\n",
       "    </tr>\n",
       "    <tr>\n",
       "      <th>4</th>\n",
       "      <td>32</td>\n",
       "      <td>2</td>\n",
       "      <td>28.880</td>\n",
       "      <td>0</td>\n",
       "      <td>0</td>\n",
       "      <td>1</td>\n",
       "      <td>3866.85520</td>\n",
       "    </tr>\n",
       "    <tr>\n",
       "      <th>5</th>\n",
       "      <td>31</td>\n",
       "      <td>1</td>\n",
       "      <td>25.740</td>\n",
       "      <td>0</td>\n",
       "      <td>?</td>\n",
       "      <td>4</td>\n",
       "      <td>3756.62160</td>\n",
       "    </tr>\n",
       "    <tr>\n",
       "      <th>6</th>\n",
       "      <td>46</td>\n",
       "      <td>1</td>\n",
       "      <td>33.440</td>\n",
       "      <td>1</td>\n",
       "      <td>0</td>\n",
       "      <td>4</td>\n",
       "      <td>8240.58960</td>\n",
       "    </tr>\n",
       "    <tr>\n",
       "      <th>7</th>\n",
       "      <td>37</td>\n",
       "      <td>1</td>\n",
       "      <td>27.740</td>\n",
       "      <td>3</td>\n",
       "      <td>0</td>\n",
       "      <td>1</td>\n",
       "      <td>7281.50560</td>\n",
       "    </tr>\n",
       "    <tr>\n",
       "      <th>8</th>\n",
       "      <td>37</td>\n",
       "      <td>2</td>\n",
       "      <td>29.830</td>\n",
       "      <td>2</td>\n",
       "      <td>0</td>\n",
       "      <td>2</td>\n",
       "      <td>6406.41070</td>\n",
       "    </tr>\n",
       "    <tr>\n",
       "      <th>9</th>\n",
       "      <td>60</td>\n",
       "      <td>1</td>\n",
       "      <td>25.840</td>\n",
       "      <td>0</td>\n",
       "      <td>0</td>\n",
       "      <td>1</td>\n",
       "      <td>28923.13692</td>\n",
       "    </tr>\n",
       "  </tbody>\n",
       "</table>\n",
       "</div>"
      ],
      "text/plain": [
       "    0  1       2  3  4  5            6\n",
       "0  19  1  27.900  0  1  3  16884.92400\n",
       "1  18  2  33.770  1  0  4   1725.55230\n",
       "2  28  2  33.000  3  0  4   4449.46200\n",
       "3  33  2  22.705  0  0  1  21984.47061\n",
       "4  32  2  28.880  0  0  1   3866.85520\n",
       "5  31  1  25.740  0  ?  4   3756.62160\n",
       "6  46  1  33.440  1  0  4   8240.58960\n",
       "7  37  1  27.740  3  0  1   7281.50560\n",
       "8  37  2  29.830  2  0  2   6406.41070\n",
       "9  60  1  25.840  0  0  1  28923.13692"
      ]
     },
     "execution_count": 14,
     "metadata": {},
     "output_type": "execute_result"
    }
   ],
   "source": [
    "df.head(10)"
   ]
  },
  {
   "cell_type": "code",
   "execution_count": 21,
   "id": "dc52c8d1-7cbe-4951-a64b-2f0374a941b2",
   "metadata": {},
   "outputs": [
    {
     "data": {
      "text/html": [
       "<div>\n",
       "<style scoped>\n",
       "    .dataframe tbody tr th:only-of-type {\n",
       "        vertical-align: middle;\n",
       "    }\n",
       "\n",
       "    .dataframe tbody tr th {\n",
       "        vertical-align: top;\n",
       "    }\n",
       "\n",
       "    .dataframe thead th {\n",
       "        text-align: right;\n",
       "    }\n",
       "</style>\n",
       "<table border=\"1\" class=\"dataframe\">\n",
       "  <thead>\n",
       "    <tr style=\"text-align: right;\">\n",
       "      <th></th>\n",
       "      <th>age</th>\n",
       "      <th>gender</th>\n",
       "      <th>bmi</th>\n",
       "      <th>no_of_children</th>\n",
       "      <th>smoker</th>\n",
       "      <th>region</th>\n",
       "      <th>charges</th>\n",
       "    </tr>\n",
       "  </thead>\n",
       "  <tbody>\n",
       "    <tr>\n",
       "      <th>0</th>\n",
       "      <td>19</td>\n",
       "      <td>1</td>\n",
       "      <td>27.900</td>\n",
       "      <td>0</td>\n",
       "      <td>1</td>\n",
       "      <td>3</td>\n",
       "      <td>16884.92400</td>\n",
       "    </tr>\n",
       "    <tr>\n",
       "      <th>1</th>\n",
       "      <td>18</td>\n",
       "      <td>2</td>\n",
       "      <td>33.770</td>\n",
       "      <td>1</td>\n",
       "      <td>0</td>\n",
       "      <td>4</td>\n",
       "      <td>1725.55230</td>\n",
       "    </tr>\n",
       "    <tr>\n",
       "      <th>2</th>\n",
       "      <td>28</td>\n",
       "      <td>2</td>\n",
       "      <td>33.000</td>\n",
       "      <td>3</td>\n",
       "      <td>0</td>\n",
       "      <td>4</td>\n",
       "      <td>4449.46200</td>\n",
       "    </tr>\n",
       "    <tr>\n",
       "      <th>3</th>\n",
       "      <td>33</td>\n",
       "      <td>2</td>\n",
       "      <td>22.705</td>\n",
       "      <td>0</td>\n",
       "      <td>0</td>\n",
       "      <td>1</td>\n",
       "      <td>21984.47061</td>\n",
       "    </tr>\n",
       "    <tr>\n",
       "      <th>4</th>\n",
       "      <td>32</td>\n",
       "      <td>2</td>\n",
       "      <td>28.880</td>\n",
       "      <td>0</td>\n",
       "      <td>0</td>\n",
       "      <td>1</td>\n",
       "      <td>3866.85520</td>\n",
       "    </tr>\n",
       "    <tr>\n",
       "      <th>5</th>\n",
       "      <td>31</td>\n",
       "      <td>1</td>\n",
       "      <td>25.740</td>\n",
       "      <td>0</td>\n",
       "      <td>NaN</td>\n",
       "      <td>4</td>\n",
       "      <td>3756.62160</td>\n",
       "    </tr>\n",
       "    <tr>\n",
       "      <th>6</th>\n",
       "      <td>46</td>\n",
       "      <td>1</td>\n",
       "      <td>33.440</td>\n",
       "      <td>1</td>\n",
       "      <td>0</td>\n",
       "      <td>4</td>\n",
       "      <td>8240.58960</td>\n",
       "    </tr>\n",
       "    <tr>\n",
       "      <th>7</th>\n",
       "      <td>37</td>\n",
       "      <td>1</td>\n",
       "      <td>27.740</td>\n",
       "      <td>3</td>\n",
       "      <td>0</td>\n",
       "      <td>1</td>\n",
       "      <td>7281.50560</td>\n",
       "    </tr>\n",
       "    <tr>\n",
       "      <th>8</th>\n",
       "      <td>37</td>\n",
       "      <td>2</td>\n",
       "      <td>29.830</td>\n",
       "      <td>2</td>\n",
       "      <td>0</td>\n",
       "      <td>2</td>\n",
       "      <td>6406.41070</td>\n",
       "    </tr>\n",
       "    <tr>\n",
       "      <th>9</th>\n",
       "      <td>60</td>\n",
       "      <td>1</td>\n",
       "      <td>25.840</td>\n",
       "      <td>0</td>\n",
       "      <td>0</td>\n",
       "      <td>1</td>\n",
       "      <td>28923.13692</td>\n",
       "    </tr>\n",
       "  </tbody>\n",
       "</table>\n",
       "</div>"
      ],
      "text/plain": [
       "  age  gender     bmi  no_of_children smoker  region      charges\n",
       "0  19       1  27.900               0      1       3  16884.92400\n",
       "1  18       2  33.770               1      0       4   1725.55230\n",
       "2  28       2  33.000               3      0       4   4449.46200\n",
       "3  33       2  22.705               0      0       1  21984.47061\n",
       "4  32       2  28.880               0      0       1   3866.85520\n",
       "5  31       1  25.740               0    NaN       4   3756.62160\n",
       "6  46       1  33.440               1      0       4   8240.58960\n",
       "7  37       1  27.740               3      0       1   7281.50560\n",
       "8  37       2  29.830               2      0       2   6406.41070\n",
       "9  60       1  25.840               0      0       1  28923.13692"
      ]
     },
     "execution_count": 21,
     "metadata": {},
     "output_type": "execute_result"
    }
   ],
   "source": [
    "headers = [\"age\", \"gender\", \"bmi\", \"no_of_children\", \"smoker\", \"region\", \"charges\"]\n",
    "df.columns = headers\n",
    "df.head(10)"
   ]
  },
  {
   "cell_type": "markdown",
   "id": "2fae876f-821e-4ab4-a7fd-ad9b150b60f1",
   "metadata": {},
   "source": [
    "# **II) Data Wrangling**"
   ]
  },
  {
   "cell_type": "markdown",
   "id": "a803c827-7c79-4abf-8a2d-430a6c33ccf4",
   "metadata": {},
   "source": [
    "### **Check NULL or missing values:**"
   ]
  },
  {
   "cell_type": "markdown",
   "id": "d3a443f6-84c8-4c33-9dfc-3e10623f1582",
   "metadata": {},
   "source": [
    "If you use just .isnull(), it will give you the datframe with values Flase or True"
   ]
  },
  {
   "cell_type": "code",
   "execution_count": 22,
   "id": "9e6aa2d9-387a-4868-a515-96735fda8a5a",
   "metadata": {},
   "outputs": [
    {
     "data": {
      "text/plain": [
       "age               4\n",
       "gender            0\n",
       "bmi               0\n",
       "no_of_children    0\n",
       "smoker            7\n",
       "region            0\n",
       "charges           0\n",
       "dtype: int64"
      ]
     },
     "execution_count": 22,
     "metadata": {},
     "output_type": "execute_result"
    }
   ],
   "source": [
    "#total of null values\n",
    "df.isnull().sum()"
   ]
  },
  {
   "cell_type": "markdown",
   "id": "a1f29c72-955f-4010-80b6-0a1a6ebf33f7",
   "metadata": {},
   "source": [
    "### *Replace ? with Nan*"
   ]
  },
  {
   "cell_type": "code",
   "execution_count": 23,
   "id": "ffa48438-15a2-4c9b-b0d9-a91fe6db2bff",
   "metadata": {},
   "outputs": [],
   "source": [
    "df.replace(\"?\", np.NaN, inplace = True)"
   ]
  },
  {
   "cell_type": "code",
   "execution_count": 24,
   "id": "74069c7b-411c-4daa-a649-41e5eaa40941",
   "metadata": {},
   "outputs": [
    {
     "data": {
      "text/plain": [
       "age               4\n",
       "gender            0\n",
       "bmi               0\n",
       "no_of_children    0\n",
       "smoker            7\n",
       "region            0\n",
       "charges           0\n",
       "dtype: int64"
      ]
     },
     "execution_count": 24,
     "metadata": {},
     "output_type": "execute_result"
    }
   ],
   "source": [
    "df.isnull().sum()"
   ]
  },
  {
   "cell_type": "code",
   "execution_count": 25,
   "id": "38617c73-fc87-4d51-9e48-1685093f50aa",
   "metadata": {},
   "outputs": [
    {
     "name": "stdout",
     "output_type": "stream",
     "text": [
      "<class 'pandas.core.frame.DataFrame'>\n",
      "RangeIndex: 2772 entries, 0 to 2771\n",
      "Data columns (total 7 columns):\n",
      " #   Column          Non-Null Count  Dtype  \n",
      "---  ------          --------------  -----  \n",
      " 0   age             2768 non-null   object \n",
      " 1   gender          2772 non-null   int64  \n",
      " 2   bmi             2772 non-null   float64\n",
      " 3   no_of_children  2772 non-null   int64  \n",
      " 4   smoker          2765 non-null   object \n",
      " 5   region          2772 non-null   int64  \n",
      " 6   charges         2772 non-null   float64\n",
      "dtypes: float64(2), int64(3), object(2)\n",
      "memory usage: 151.7+ KB\n"
     ]
    }
   ],
   "source": [
    "df.info()"
   ]
  },
  {
   "cell_type": "markdown",
   "id": "639718c1-8b83-4cf7-bdd5-b99ddf253782",
   "metadata": {},
   "source": [
    "### Replace *Continuous Data* with the **mean** (In this case age)"
   ]
  },
  {
   "cell_type": "code",
   "execution_count": 26,
   "id": "4b1e7461-d9b8-4898-bc75-acbecb870eee",
   "metadata": {},
   "outputs": [
    {
     "name": "stdout",
     "output_type": "stream",
     "text": [
      "Done\n"
     ]
    }
   ],
   "source": [
    "#Calculate the mean of age\n",
    "df[\"age\"] = df[\"age\"].astype(float) #Because age is type object\n",
    "age_mean = df[\"age\"].mean(axis = 0)\n",
    "#Now let's replace the NaN with mean\n",
    "df[\"age\"].replace(np.NaN, age_mean, inplace = True)\n",
    "print(\"Done\")"
   ]
  },
  {
   "cell_type": "markdown",
   "id": "e5ab54ee-d7c4-4244-b3c0-3ab47c301ef5",
   "metadata": {},
   "source": [
    "### Replace *Categorical* with **most frequent** value (in this case smoker)"
   ]
  },
  {
   "cell_type": "code",
   "execution_count": 27,
   "id": "686bdc03-937d-49c8-a30b-b1e8e3a3cf4e",
   "metadata": {},
   "outputs": [
    {
     "name": "stdout",
     "output_type": "stream",
     "text": [
      "Done\n"
     ]
    }
   ],
   "source": [
    "# Calculate the most frequent value in smoker's column\n",
    "frequent_smoker = df[\"smoker\"].value_counts().idxmax()\n",
    "df[\"smoker\"].replace(np.NaN, frequent_smoker, inplace = True)\n",
    "print(\"Done\")"
   ]
  },
  {
   "cell_type": "markdown",
   "id": "4561c9e9-1ecd-42fa-a5b3-0eaac561e410",
   "metadata": {},
   "source": [
    "Note: For frequent value, either you use value_counts().idxmax() or mode()[0], you must see the difference between them before use it"
   ]
  },
  {
   "cell_type": "markdown",
   "id": "1b90ab19-51d3-4ad9-9e0a-4fa023d93f5a",
   "metadata": {},
   "source": [
    "### **Update** Data Type"
   ]
  },
  {
   "cell_type": "code",
   "execution_count": 28,
   "id": "1be83deb-2569-43d1-9940-d2c4c123512d",
   "metadata": {},
   "outputs": [
    {
     "name": "stdout",
     "output_type": "stream",
     "text": [
      "Done\n"
     ]
    }
   ],
   "source": [
    "''' smoker and age are int type as we've seen in the dataframe, but when \n",
    "exploring concise summary of the data farme we can see an issue with the type of data '''\n",
    "df[[\"smoker\", \"age\"]].astype(int)\n",
    "print(\"Done\")"
   ]
  },
  {
   "cell_type": "code",
   "execution_count": 29,
   "id": "2c2c2045-140f-4b59-a319-91cf8dede286",
   "metadata": {},
   "outputs": [
    {
     "name": "stdout",
     "output_type": "stream",
     "text": [
      "<class 'pandas.core.frame.DataFrame'>\n",
      "RangeIndex: 2772 entries, 0 to 2771\n",
      "Data columns (total 7 columns):\n",
      " #   Column          Non-Null Count  Dtype  \n",
      "---  ------          --------------  -----  \n",
      " 0   age             2772 non-null   float64\n",
      " 1   gender          2772 non-null   int64  \n",
      " 2   bmi             2772 non-null   float64\n",
      " 3   no_of_children  2772 non-null   int64  \n",
      " 4   smoker          2772 non-null   object \n",
      " 5   region          2772 non-null   int64  \n",
      " 6   charges         2772 non-null   float64\n",
      "dtypes: float64(3), int64(3), object(1)\n",
      "memory usage: 151.7+ KB\n"
     ]
    }
   ],
   "source": [
    "df.info()"
   ]
  },
  {
   "cell_type": "markdown",
   "id": "14d554d9-0d9c-4746-aa40-4dce1b9e9c61",
   "metadata": {},
   "source": [
    "Charges column has values which are more than 2 decimal places long. Update harges column such that all values are rounded to nearest 2 decimal places"
   ]
  },
  {
   "cell_type": "code",
   "execution_count": 30,
   "id": "49b198f9-94ff-4341-ba31-4edc0750df30",
   "metadata": {},
   "outputs": [],
   "source": [
    "df[\"charges\"] = df[\"charges\"].round(2)"
   ]
  },
  {
   "cell_type": "code",
   "execution_count": 31,
   "id": "77126f5c-6a87-462a-9f5f-7efad927da65",
   "metadata": {},
   "outputs": [
    {
     "data": {
      "text/html": [
       "<div>\n",
       "<style scoped>\n",
       "    .dataframe tbody tr th:only-of-type {\n",
       "        vertical-align: middle;\n",
       "    }\n",
       "\n",
       "    .dataframe tbody tr th {\n",
       "        vertical-align: top;\n",
       "    }\n",
       "\n",
       "    .dataframe thead th {\n",
       "        text-align: right;\n",
       "    }\n",
       "</style>\n",
       "<table border=\"1\" class=\"dataframe\">\n",
       "  <thead>\n",
       "    <tr style=\"text-align: right;\">\n",
       "      <th></th>\n",
       "      <th>age</th>\n",
       "      <th>gender</th>\n",
       "      <th>bmi</th>\n",
       "      <th>no_of_children</th>\n",
       "      <th>smoker</th>\n",
       "      <th>region</th>\n",
       "      <th>charges</th>\n",
       "    </tr>\n",
       "  </thead>\n",
       "  <tbody>\n",
       "    <tr>\n",
       "      <th>0</th>\n",
       "      <td>19.0</td>\n",
       "      <td>1</td>\n",
       "      <td>27.900</td>\n",
       "      <td>0</td>\n",
       "      <td>1</td>\n",
       "      <td>3</td>\n",
       "      <td>16884.92</td>\n",
       "    </tr>\n",
       "    <tr>\n",
       "      <th>1</th>\n",
       "      <td>18.0</td>\n",
       "      <td>2</td>\n",
       "      <td>33.770</td>\n",
       "      <td>1</td>\n",
       "      <td>0</td>\n",
       "      <td>4</td>\n",
       "      <td>1725.55</td>\n",
       "    </tr>\n",
       "    <tr>\n",
       "      <th>2</th>\n",
       "      <td>28.0</td>\n",
       "      <td>2</td>\n",
       "      <td>33.000</td>\n",
       "      <td>3</td>\n",
       "      <td>0</td>\n",
       "      <td>4</td>\n",
       "      <td>4449.46</td>\n",
       "    </tr>\n",
       "    <tr>\n",
       "      <th>3</th>\n",
       "      <td>33.0</td>\n",
       "      <td>2</td>\n",
       "      <td>22.705</td>\n",
       "      <td>0</td>\n",
       "      <td>0</td>\n",
       "      <td>1</td>\n",
       "      <td>21984.47</td>\n",
       "    </tr>\n",
       "    <tr>\n",
       "      <th>4</th>\n",
       "      <td>32.0</td>\n",
       "      <td>2</td>\n",
       "      <td>28.880</td>\n",
       "      <td>0</td>\n",
       "      <td>0</td>\n",
       "      <td>1</td>\n",
       "      <td>3866.86</td>\n",
       "    </tr>\n",
       "  </tbody>\n",
       "</table>\n",
       "</div>"
      ],
      "text/plain": [
       "    age  gender     bmi  no_of_children smoker  region   charges\n",
       "0  19.0       1  27.900               0      1       3  16884.92\n",
       "1  18.0       2  33.770               1      0       4   1725.55\n",
       "2  28.0       2  33.000               3      0       4   4449.46\n",
       "3  33.0       2  22.705               0      0       1  21984.47\n",
       "4  32.0       2  28.880               0      0       1   3866.86"
      ]
     },
     "execution_count": 31,
     "metadata": {},
     "output_type": "execute_result"
    }
   ],
   "source": [
    "#As we can see now, values are rounded to 2\n",
    "df.head(5)"
   ]
  },
  {
   "cell_type": "markdown",
   "id": "6413fc44-68bf-403b-b31d-f804e90e133d",
   "metadata": {},
   "source": [
    "# **III) Exploraatory Data Analysis** EDA"
   ]
  },
  {
   "cell_type": "markdown",
   "id": "46e65d40-6428-463d-967a-47bd64e59687",
   "metadata": {},
   "source": [
    "### Regression plot for charges with respect to bmi:"
   ]
  },
  {
   "cell_type": "code",
   "execution_count": 46,
   "id": "cc1452c2-e717-4699-abb1-b9fe54afc0eb",
   "metadata": {},
   "outputs": [
    {
     "data": {
      "text/plain": [
       "<Axes: xlabel='bmi', ylabel='charges'>"
      ]
     },
     "execution_count": 46,
     "metadata": {},
     "output_type": "execute_result"
    },
    {
     "data": {
      "image/png": "[encoded data removed]",
      "text/plain": [
       "<Figure size 640x480 with 1 Axes>"
      ]
     },
     "metadata": {},
     "output_type": "display_data"
    }
   ],
   "source": [
    "sns.regplot(x = \"bmi\", y=\"charges\", data = df)"
   ]
  },
  {
   "cell_type": "markdown",
   "id": "a6293d14-1573-48f9-8889-a68541a1caa3",
   "metadata": {},
   "source": [
    "### Box plot for charges with respect to smoker:"
   ]
  },
  {
   "cell_type": "code",
   "execution_count": 48,
   "id": "d864d008-75d3-4c96-8a57-0de9a53353a8",
   "metadata": {},
   "outputs": [
    {
     "data": {
      "text/plain": [
       "<Axes: xlabel='smoker', ylabel='charges'>"
      ]
     },
     "execution_count": 48,
     "metadata": {},
     "output_type": "execute_result"
    },
    {
     "data": {
      "image/png": "[encoded data removed]",
      "text/plain": [
       "<Figure size 640x480 with 1 Axes>"
      ]
     },
     "metadata": {},
     "output_type": "display_data"
    }
   ],
   "source": [
    "sns.boxplot(x=\"smoker\", y=\"charges\", data=df)"
   ]
  },
  {
   "cell_type": "markdown",
   "id": "861b0425-0072-47c0-9671-ea9868385731",
   "metadata": {},
   "source": [
    "### Correlation matrix for the dataset:"
   ]
  },
  {
   "cell_type": "code",
   "execution_count": 49,
   "id": "9a291133-ca1b-4ce6-bd82-307effa7ea03",
   "metadata": {},
   "outputs": [
    {
     "data": {
      "text/html": [
       "<div>\n",
       "<style scoped>\n",
       "    .dataframe tbody tr th:only-of-type {\n",
       "        vertical-align: middle;\n",
       "    }\n",
       "\n",
       "    .dataframe tbody tr th {\n",
       "        vertical-align: top;\n",
       "    }\n",
       "\n",
       "    .dataframe thead th {\n",
       "        text-align: right;\n",
       "    }\n",
       "</style>\n",
       "<table border=\"1\" class=\"dataframe\">\n",
       "  <thead>\n",
       "    <tr style=\"text-align: right;\">\n",
       "      <th></th>\n",
       "      <th>age</th>\n",
       "      <th>gender</th>\n",
       "      <th>bmi</th>\n",
       "      <th>no_of_children</th>\n",
       "      <th>smoker</th>\n",
       "      <th>region</th>\n",
       "      <th>charges</th>\n",
       "    </tr>\n",
       "  </thead>\n",
       "  <tbody>\n",
       "    <tr>\n",
       "      <th>age</th>\n",
       "      <td>1.000000</td>\n",
       "      <td>-0.026041</td>\n",
       "      <td>0.113045</td>\n",
       "      <td>0.037585</td>\n",
       "      <td>-0.023285</td>\n",
       "      <td>-0.007175</td>\n",
       "      <td>0.298622</td>\n",
       "    </tr>\n",
       "    <tr>\n",
       "      <th>gender</th>\n",
       "      <td>-0.026041</td>\n",
       "      <td>1.000000</td>\n",
       "      <td>0.042924</td>\n",
       "      <td>0.016020</td>\n",
       "      <td>0.082326</td>\n",
       "      <td>0.022213</td>\n",
       "      <td>0.062837</td>\n",
       "    </tr>\n",
       "    <tr>\n",
       "      <th>bmi</th>\n",
       "      <td>0.113045</td>\n",
       "      <td>0.042924</td>\n",
       "      <td>1.000000</td>\n",
       "      <td>-0.001492</td>\n",
       "      <td>0.011489</td>\n",
       "      <td>0.271119</td>\n",
       "      <td>0.199846</td>\n",
       "    </tr>\n",
       "    <tr>\n",
       "      <th>no_of_children</th>\n",
       "      <td>0.037585</td>\n",
       "      <td>0.016020</td>\n",
       "      <td>-0.001492</td>\n",
       "      <td>1.000000</td>\n",
       "      <td>0.006362</td>\n",
       "      <td>-0.025717</td>\n",
       "      <td>0.066442</td>\n",
       "    </tr>\n",
       "    <tr>\n",
       "      <th>smoker</th>\n",
       "      <td>-0.023285</td>\n",
       "      <td>0.082326</td>\n",
       "      <td>0.011489</td>\n",
       "      <td>0.006362</td>\n",
       "      <td>1.000000</td>\n",
       "      <td>0.054077</td>\n",
       "      <td>0.788783</td>\n",
       "    </tr>\n",
       "    <tr>\n",
       "      <th>region</th>\n",
       "      <td>-0.007175</td>\n",
       "      <td>0.022213</td>\n",
       "      <td>0.271119</td>\n",
       "      <td>-0.025717</td>\n",
       "      <td>0.054077</td>\n",
       "      <td>1.000000</td>\n",
       "      <td>0.054058</td>\n",
       "    </tr>\n",
       "    <tr>\n",
       "      <th>charges</th>\n",
       "      <td>0.298622</td>\n",
       "      <td>0.062837</td>\n",
       "      <td>0.199846</td>\n",
       "      <td>0.066442</td>\n",
       "      <td>0.788783</td>\n",
       "      <td>0.054058</td>\n",
       "      <td>1.000000</td>\n",
       "    </tr>\n",
       "  </tbody>\n",
       "</table>\n",
       "</div>"
      ],
      "text/plain": [
       "                     age    gender       bmi  no_of_children    smoker  \\\n",
       "age             1.000000 -0.026041  0.113045        0.037585 -0.023285   \n",
       "gender         -0.026041  1.000000  0.042924        0.016020  0.082326   \n",
       "bmi             0.113045  0.042924  1.000000       -0.001492  0.011489   \n",
       "no_of_children  0.037585  0.016020 -0.001492        1.000000  0.006362   \n",
       "smoker         -0.023285  0.082326  0.011489        0.006362  1.000000   \n",
       "region         -0.007175  0.022213  0.271119       -0.025717  0.054077   \n",
       "charges         0.298622  0.062837  0.199846        0.066442  0.788783   \n",
       "\n",
       "                  region   charges  \n",
       "age            -0.007175  0.298622  \n",
       "gender          0.022213  0.062837  \n",
       "bmi             0.271119  0.199846  \n",
       "no_of_children -0.025717  0.066442  \n",
       "smoker          0.054077  0.788783  \n",
       "region          1.000000  0.054058  \n",
       "charges         0.054058  1.000000  "
      ]
     },
     "execution_count": 49,
     "metadata": {},
     "output_type": "execute_result"
    }
   ],
   "source": [
    "df.corr()"
   ]
  },
  {
   "cell_type": "markdown",
   "id": "de533a40-215f-4bf9-8501-52097f2eb06a",
   "metadata": {},
   "source": [
    "## **VI) Model Development**"
   ]
  },
  {
   "cell_type": "markdown",
   "id": "53588a5d-6152-471e-abb6-92c4d114b810",
   "metadata": {},
   "source": [
    "### *Fit linear regression model to predict charges using smoker attribute*"
   ]
  },
  {
   "cell_type": "markdown",
   "id": "9da9e271-1529-4562-8416-02cef53c2524",
   "metadata": {},
   "source": [
    "In simple linear regression, you're trying to fit a line to your data to model the relationship between two variables, usually denoted as x (independent variable) and y (dependent variable). \n",
    "\n",
    "- Target: The target, or dependent variable, is 'y' in this case. You're trying to predict or model 'y' based on the values of 'x'.\n",
    "\n",
    "- Predictions: Once you've trained your linear regression model, you can use it to make predictions. Given a new value of 'x', your model will predict the corresponding 'y'. The predicted 'y' is what your model thinks the value should be based on the learned relationship from the training data."
   ]
  },
  {
   "cell_type": "code",
   "execution_count": 35,
   "id": "3bde971a-04ac-4bb3-9311-1f52f5784247",
   "metadata": {},
   "outputs": [
    {
     "data": {
      "text/html": [
       "<style>#sk-container-id-2 {color: black;}#sk-container-id-2 pre{padding: 0;}#sk-container-id-2 div.sk-toggleable {background-color: white;}#sk-container-id-2 label.sk-toggleable__label {cursor: pointer;display: block;width: 100%;margin-bottom: 0;padding: 0.3em;box-sizing: border-box;text-align: center;}#sk-container-id-2 label.sk-toggleable__label-arrow:before {content: \"▸\";float: left;margin-right: 0.25em;color: #696969;}#sk-container-id-2 label.sk-toggleable__label-arrow:hover:before {color: black;}#sk-container-id-2 div.sk-estimator:hover label.sk-toggleable__label-arrow:before {color: black;}#sk-container-id-2 div.sk-toggleable__content {max-height: 0;max-width: 0;overflow: hidden;text-align: left;background-color: #f0f8ff;}#sk-container-id-2 div.sk-toggleable__content pre {margin: 0.2em;color: black;border-radius: 0.25em;background-color: #f0f8ff;}#sk-container-id-2 input.sk-toggleable__control:checked~div.sk-toggleable__content {max-height: 200px;max-width: 100%;overflow: auto;}#sk-container-id-2 input.sk-toggleable__control:checked~label.sk-toggleable__label-arrow:before {content: \"▾\";}#sk-container-id-2 div.sk-estimator input.sk-toggleable__control:checked~label.sk-toggleable__label {background-color: #d4ebff;}#sk-container-id-2 div.sk-label input.sk-toggleable__control:checked~label.sk-toggleable__label {background-color: #d4ebff;}#sk-container-id-2 input.sk-hidden--visually {border: 0;clip: rect(1px 1px 1px 1px);clip: rect(1px, 1px, 1px, 1px);height: 1px;margin: -1px;overflow: hidden;padding: 0;position: absolute;width: 1px;}#sk-container-id-2 div.sk-estimator {font-family: monospace;background-color: #f0f8ff;border: 1px dotted black;border-radius: 0.25em;box-sizing: border-box;margin-bottom: 0.5em;}#sk-container-id-2 div.sk-estimator:hover {background-color: #d4ebff;}#sk-container-id-2 div.sk-parallel-item::after {content: \"\";width: 100%;border-bottom: 1px solid gray;flex-grow: 1;}#sk-container-id-2 div.sk-label:hover label.sk-toggleable__label {background-color: #d4ebff;}#sk-container-id-2 div.sk-serial::before {content: \"\";position: absolute;border-left: 1px solid gray;box-sizing: border-box;top: 0;bottom: 0;left: 50%;z-index: 0;}#sk-container-id-2 div.sk-serial {display: flex;flex-direction: column;align-items: center;background-color: white;padding-right: 0.2em;padding-left: 0.2em;position: relative;}#sk-container-id-2 div.sk-item {position: relative;z-index: 1;}#sk-container-id-2 div.sk-parallel {display: flex;align-items: stretch;justify-content: center;background-color: white;position: relative;}#sk-container-id-2 div.sk-item::before, #sk-container-id-2 div.sk-parallel-item::before {content: \"\";position: absolute;border-left: 1px solid gray;box-sizing: border-box;top: 0;bottom: 0;left: 50%;z-index: -1;}#sk-container-id-2 div.sk-parallel-item {display: flex;flex-direction: column;z-index: 1;position: relative;background-color: white;}#sk-container-id-2 div.sk-parallel-item:first-child::after {align-self: flex-end;width: 50%;}#sk-container-id-2 div.sk-parallel-item:last-child::after {align-self: flex-start;width: 50%;}#sk-container-id-2 div.sk-parallel-item:only-child::after {width: 0;}#sk-container-id-2 div.sk-dashed-wrapped {border: 1px dashed gray;margin: 0 0.4em 0.5em 0.4em;box-sizing: border-box;padding-bottom: 0.4em;background-color: white;}#sk-container-id-2 div.sk-label label {font-family: monospace;font-weight: bold;display: inline-block;line-height: 1.2em;}#sk-container-id-2 div.sk-label-container {text-align: center;}#sk-container-id-2 div.sk-container {/* jupyter's `normalize.less` sets `[hidden] { display: none; }` but bootstrap.min.css set `[hidden] { display: none !important; }` so we also need the `!important` here to be able to override the default hidden behavior on the sphinx rendered scikit-learn.org. See: https://github.com/scikit-learn/scikit-learn/issues/21755 */display: inline-block !important;position: relative;}#sk-container-id-2 div.sk-text-repr-fallback {display: none;}</style><div id=\"sk-container-id-2\" class=\"sk-top-container\"><div class=\"sk-text-repr-fallback\"><pre>LinearRegression()</pre><b>In a Jupyter environment, please rerun this cell to show the HTML representation or trust the notebook. <br />On GitHub, the HTML representation is unable to render, please try loading this page with nbviewer.org.</b></div><div class=\"sk-container\" hidden><div class=\"sk-item\"><div class=\"sk-estimator sk-toggleable\"><input class=\"sk-toggleable__control sk-hidden--visually\" id=\"sk-estimator-id-2\" type=\"checkbox\" checked><label for=\"sk-estimator-id-2\" class=\"sk-toggleable__label sk-toggleable__label-arrow\">LinearRegression</label><div class=\"sk-toggleable__content\"><pre>LinearRegression()</pre></div></div></div></div></div>"
      ],
      "text/plain": [
       "LinearRegression()"
      ]
     },
     "execution_count": 35,
     "metadata": {},
     "output_type": "execute_result"
    }
   ],
   "source": [
    "#using fit() from \n",
    "x = df[['charges']] #prediction\n",
    "y = df[['smoker']] #the target (the attribute we wanna predict)\n",
    "lm = LinearRegression() #Create an instance of a linear regression model using the LinearRegression class.\n",
    "lm.fit(x, y)"
   ]
  },
  {
   "cell_type": "markdown",
   "id": "e214f4cb-546c-4e4c-b895-eafc822c6e89",
   "metadata": {},
   "source": [
    "R² of model:"
   ]
  },
  {
   "cell_type": "code",
   "execution_count": 36,
   "id": "5c648b4d-6eec-4595-b995-cdb504a2c6e7",
   "metadata": {},
   "outputs": [
    {
     "data": {
      "text/plain": [
       "0.6221791733924185"
      ]
     },
     "execution_count": 36,
     "metadata": {},
     "output_type": "execute_result"
    }
   ],
   "source": [
    "lm.score(x, y)"
   ]
  },
  {
   "cell_type": "markdown",
   "id": "bbe4fcd5-976e-4e6d-9670-42161dbd26e2",
   "metadata": {},
   "source": [
    "As we can see about 62.2% of the variability in the dependent variable can be predicted or explained by the independent variable(s) using the linear regression model."
   ]
  },
  {
   "cell_type": "markdown",
   "id": "1485b396-d25f-4b97-9d37-4eab01145091",
   "metadata": {},
   "source": [
    "### *Fit linear regression model to predict charges using all other attributes*"
   ]
  },
  {
   "cell_type": "markdown",
   "id": "6d7e2032-4b61-40f3-8635-2918fffb4ab7",
   "metadata": {},
   "source": [
    "In this case, X the prediction will be all the attributes but charges."
   ]
  },
  {
   "cell_type": "code",
   "execution_count": 39,
   "id": "32cdc0a1-a976-4094-8ab6-583960279ce1",
   "metadata": {},
   "outputs": [
    {
     "data": {
      "text/html": [
       "<div>\n",
       "<style scoped>\n",
       "    .dataframe tbody tr th:only-of-type {\n",
       "        vertical-align: middle;\n",
       "    }\n",
       "\n",
       "    .dataframe tbody tr th {\n",
       "        vertical-align: top;\n",
       "    }\n",
       "\n",
       "    .dataframe thead th {\n",
       "        text-align: right;\n",
       "    }\n",
       "</style>\n",
       "<table border=\"1\" class=\"dataframe\">\n",
       "  <thead>\n",
       "    <tr style=\"text-align: right;\">\n",
       "      <th></th>\n",
       "      <th>age</th>\n",
       "      <th>gender</th>\n",
       "      <th>bmi</th>\n",
       "      <th>no_of_children</th>\n",
       "      <th>smoker</th>\n",
       "      <th>region</th>\n",
       "      <th>charges</th>\n",
       "    </tr>\n",
       "  </thead>\n",
       "  <tbody>\n",
       "    <tr>\n",
       "      <th>0</th>\n",
       "      <td>19.0</td>\n",
       "      <td>1</td>\n",
       "      <td>27.9</td>\n",
       "      <td>0</td>\n",
       "      <td>1</td>\n",
       "      <td>3</td>\n",
       "      <td>16884.92</td>\n",
       "    </tr>\n",
       "  </tbody>\n",
       "</table>\n",
       "</div>"
      ],
      "text/plain": [
       "    age  gender   bmi  no_of_children smoker  region   charges\n",
       "0  19.0       1  27.9               0      1       3  16884.92"
      ]
     },
     "execution_count": 39,
     "metadata": {},
     "output_type": "execute_result"
    }
   ],
   "source": [
    "df.head(1)"
   ]
  },
  {
   "cell_type": "code",
   "execution_count": 40,
   "id": "587824bd-f872-4470-aa8b-261f9af6b926",
   "metadata": {},
   "outputs": [
    {
     "data": {
      "text/html": [
       "<style>#sk-container-id-3 {color: black;}#sk-container-id-3 pre{padding: 0;}#sk-container-id-3 div.sk-toggleable {background-color: white;}#sk-container-id-3 label.sk-toggleable__label {cursor: pointer;display: block;width: 100%;margin-bottom: 0;padding: 0.3em;box-sizing: border-box;text-align: center;}#sk-container-id-3 label.sk-toggleable__label-arrow:before {content: \"▸\";float: left;margin-right: 0.25em;color: #696969;}#sk-container-id-3 label.sk-toggleable__label-arrow:hover:before {color: black;}#sk-container-id-3 div.sk-estimator:hover label.sk-toggleable__label-arrow:before {color: black;}#sk-container-id-3 div.sk-toggleable__content {max-height: 0;max-width: 0;overflow: hidden;text-align: left;background-color: #f0f8ff;}#sk-container-id-3 div.sk-toggleable__content pre {margin: 0.2em;color: black;border-radius: 0.25em;background-color: #f0f8ff;}#sk-container-id-3 input.sk-toggleable__control:checked~div.sk-toggleable__content {max-height: 200px;max-width: 100%;overflow: auto;}#sk-container-id-3 input.sk-toggleable__control:checked~label.sk-toggleable__label-arrow:before {content: \"▾\";}#sk-container-id-3 div.sk-estimator input.sk-toggleable__control:checked~label.sk-toggleable__label {background-color: #d4ebff;}#sk-container-id-3 div.sk-label input.sk-toggleable__control:checked~label.sk-toggleable__label {background-color: #d4ebff;}#sk-container-id-3 input.sk-hidden--visually {border: 0;clip: rect(1px 1px 1px 1px);clip: rect(1px, 1px, 1px, 1px);height: 1px;margin: -1px;overflow: hidden;padding: 0;position: absolute;width: 1px;}#sk-container-id-3 div.sk-estimator {font-family: monospace;background-color: #f0f8ff;border: 1px dotted black;border-radius: 0.25em;box-sizing: border-box;margin-bottom: 0.5em;}#sk-container-id-3 div.sk-estimator:hover {background-color: #d4ebff;}#sk-container-id-3 div.sk-parallel-item::after {content: \"\";width: 100%;border-bottom: 1px solid gray;flex-grow: 1;}#sk-container-id-3 div.sk-label:hover label.sk-toggleable__label {background-color: #d4ebff;}#sk-container-id-3 div.sk-serial::before {content: \"\";position: absolute;border-left: 1px solid gray;box-sizing: border-box;top: 0;bottom: 0;left: 50%;z-index: 0;}#sk-container-id-3 div.sk-serial {display: flex;flex-direction: column;align-items: center;background-color: white;padding-right: 0.2em;padding-left: 0.2em;position: relative;}#sk-container-id-3 div.sk-item {position: relative;z-index: 1;}#sk-container-id-3 div.sk-parallel {display: flex;align-items: stretch;justify-content: center;background-color: white;position: relative;}#sk-container-id-3 div.sk-item::before, #sk-container-id-3 div.sk-parallel-item::before {content: \"\";position: absolute;border-left: 1px solid gray;box-sizing: border-box;top: 0;bottom: 0;left: 50%;z-index: -1;}#sk-container-id-3 div.sk-parallel-item {display: flex;flex-direction: column;z-index: 1;position: relative;background-color: white;}#sk-container-id-3 div.sk-parallel-item:first-child::after {align-self: flex-end;width: 50%;}#sk-container-id-3 div.sk-parallel-item:last-child::after {align-self: flex-start;width: 50%;}#sk-container-id-3 div.sk-parallel-item:only-child::after {width: 0;}#sk-container-id-3 div.sk-dashed-wrapped {border: 1px dashed gray;margin: 0 0.4em 0.5em 0.4em;box-sizing: border-box;padding-bottom: 0.4em;background-color: white;}#sk-container-id-3 div.sk-label label {font-family: monospace;font-weight: bold;display: inline-block;line-height: 1.2em;}#sk-container-id-3 div.sk-label-container {text-align: center;}#sk-container-id-3 div.sk-container {/* jupyter's `normalize.less` sets `[hidden] { display: none; }` but bootstrap.min.css set `[hidden] { display: none !important; }` so we also need the `!important` here to be able to override the default hidden behavior on the sphinx rendered scikit-learn.org. See: https://github.com/scikit-learn/scikit-learn/issues/21755 */display: inline-block !important;position: relative;}#sk-container-id-3 div.sk-text-repr-fallback {display: none;}</style><div id=\"sk-container-id-3\" class=\"sk-top-container\"><div class=\"sk-text-repr-fallback\"><pre>LinearRegression()</pre><b>In a Jupyter environment, please rerun this cell to show the HTML representation or trust the notebook. <br />On GitHub, the HTML representation is unable to render, please try loading this page with nbviewer.org.</b></div><div class=\"sk-container\" hidden><div class=\"sk-item\"><div class=\"sk-estimator sk-toggleable\"><input class=\"sk-toggleable__control sk-hidden--visually\" id=\"sk-estimator-id-3\" type=\"checkbox\" checked><label for=\"sk-estimator-id-3\" class=\"sk-toggleable__label sk-toggleable__label-arrow\">LinearRegression</label><div class=\"sk-toggleable__content\"><pre>LinearRegression()</pre></div></div></div></div></div>"
      ],
      "text/plain": [
       "LinearRegression()"
      ]
     },
     "execution_count": 40,
     "metadata": {},
     "output_type": "execute_result"
    }
   ],
   "source": [
    "x = df[['age', 'gender', 'bmi', 'no_of_children', 'smoker', 'region']]\n",
    "y = df['charges']\n",
    "lm.fit(x, y)"
   ]
  },
  {
   "cell_type": "markdown",
   "id": "6fc06291-1c1e-4da8-b5f7-f08540e292bc",
   "metadata": {},
   "source": [
    "R² of model:"
   ]
  },
  {
   "cell_type": "code",
   "execution_count": 42,
   "id": "b8395a68-1de8-4c9a-bd04-68ea58427b32",
   "metadata": {},
   "outputs": [
    {
     "data": {
      "text/plain": [
       "0.7504063772187107"
      ]
     },
     "execution_count": 42,
     "metadata": {},
     "output_type": "execute_result"
    }
   ],
   "source": [
    "lm.score(x, y)"
   ]
  },
  {
   "cell_type": "markdown",
   "id": "24471922-b74a-4e1e-b126-63096c615ab1",
   "metadata": {},
   "source": [
    "As we can see about 62.2% of the variability in the dependent variable can be predicted or explained by the independent variable(s) using the MLR. \n",
    "\n",
    "Note that if the regression wasn't the best fit for your model, you can think to use polynomial regression."
   ]
  },
  {
   "cell_type": "markdown",
   "id": "343bf7ea-d1d5-413c-9a8e-9878343d7326",
   "metadata": {},
   "source": [
    "### **Improve performance:**"
   ]
  },
  {
   "cell_type": "markdown",
   "id": "2cf6fefc-a37a-40c1-bbfc-e1eed598dd8e",
   "metadata": {},
   "source": [
    "Create a training pipeline that uses StandardScaler(), PolynomialFeatures() and LinearRegression() to create a model that can predict the charges value using all the other attributes of the dataset. There should be even further improvement in the performance."
   ]
  },
  {
   "cell_type": "markdown",
   "id": "8c7d9bd4-9e48-4b87-8df0-ad454186d5e5",
   "metadata": {},
   "source": [
    "- Import all necessary models\n",
    "- Import pipeline\n",
    "- Create a list of tuples\n",
    "- Create your pipeline object"
   ]
  },
  {
   "cell_type": "code",
   "execution_count": 47,
   "id": "b5d50776-c884-4de5-a49f-f0c4d84455d2",
   "metadata": {},
   "outputs": [
    {
     "data": {
      "text/html": [
       "<style>#sk-container-id-4 {color: black;}#sk-container-id-4 pre{padding: 0;}#sk-container-id-4 div.sk-toggleable {background-color: white;}#sk-container-id-4 label.sk-toggleable__label {cursor: pointer;display: block;width: 100%;margin-bottom: 0;padding: 0.3em;box-sizing: border-box;text-align: center;}#sk-container-id-4 label.sk-toggleable__label-arrow:before {content: \"▸\";float: left;margin-right: 0.25em;color: #696969;}#sk-container-id-4 label.sk-toggleable__label-arrow:hover:before {color: black;}#sk-container-id-4 div.sk-estimator:hover label.sk-toggleable__label-arrow:before {color: black;}#sk-container-id-4 div.sk-toggleable__content {max-height: 0;max-width: 0;overflow: hidden;text-align: left;background-color: #f0f8ff;}#sk-container-id-4 div.sk-toggleable__content pre {margin: 0.2em;color: black;border-radius: 0.25em;background-color: #f0f8ff;}#sk-container-id-4 input.sk-toggleable__control:checked~div.sk-toggleable__content {max-height: 200px;max-width: 100%;overflow: auto;}#sk-container-id-4 input.sk-toggleable__control:checked~label.sk-toggleable__label-arrow:before {content: \"▾\";}#sk-container-id-4 div.sk-estimator input.sk-toggleable__control:checked~label.sk-toggleable__label {background-color: #d4ebff;}#sk-container-id-4 div.sk-label input.sk-toggleable__control:checked~label.sk-toggleable__label {background-color: #d4ebff;}#sk-container-id-4 input.sk-hidden--visually {border: 0;clip: rect(1px 1px 1px 1px);clip: rect(1px, 1px, 1px, 1px);height: 1px;margin: -1px;overflow: hidden;padding: 0;position: absolute;width: 1px;}#sk-container-id-4 div.sk-estimator {font-family: monospace;background-color: #f0f8ff;border: 1px dotted black;border-radius: 0.25em;box-sizing: border-box;margin-bottom: 0.5em;}#sk-container-id-4 div.sk-estimator:hover {background-color: #d4ebff;}#sk-container-id-4 div.sk-parallel-item::after {content: \"\";width: 100%;border-bottom: 1px solid gray;flex-grow: 1;}#sk-container-id-4 div.sk-label:hover label.sk-toggleable__label {background-color: #d4ebff;}#sk-container-id-4 div.sk-serial::before {content: \"\";position: absolute;border-left: 1px solid gray;box-sizing: border-box;top: 0;bottom: 0;left: 50%;z-index: 0;}#sk-container-id-4 div.sk-serial {display: flex;flex-direction: column;align-items: center;background-color: white;padding-right: 0.2em;padding-left: 0.2em;position: relative;}#sk-container-id-4 div.sk-item {position: relative;z-index: 1;}#sk-container-id-4 div.sk-parallel {display: flex;align-items: stretch;justify-content: center;background-color: white;position: relative;}#sk-container-id-4 div.sk-item::before, #sk-container-id-4 div.sk-parallel-item::before {content: \"\";position: absolute;border-left: 1px solid gray;box-sizing: border-box;top: 0;bottom: 0;left: 50%;z-index: -1;}#sk-container-id-4 div.sk-parallel-item {display: flex;flex-direction: column;z-index: 1;position: relative;background-color: white;}#sk-container-id-4 div.sk-parallel-item:first-child::after {align-self: flex-end;width: 50%;}#sk-container-id-4 div.sk-parallel-item:last-child::after {align-self: flex-start;width: 50%;}#sk-container-id-4 div.sk-parallel-item:only-child::after {width: 0;}#sk-container-id-4 div.sk-dashed-wrapped {border: 1px dashed gray;margin: 0 0.4em 0.5em 0.4em;box-sizing: border-box;padding-bottom: 0.4em;background-color: white;}#sk-container-id-4 div.sk-label label {font-family: monospace;font-weight: bold;display: inline-block;line-height: 1.2em;}#sk-container-id-4 div.sk-label-container {text-align: center;}#sk-container-id-4 div.sk-container {/* jupyter's `normalize.less` sets `[hidden] { display: none; }` but bootstrap.min.css set `[hidden] { display: none !important; }` so we also need the `!important` here to be able to override the default hidden behavior on the sphinx rendered scikit-learn.org. See: https://github.com/scikit-learn/scikit-learn/issues/21755 */display: inline-block !important;position: relative;}#sk-container-id-4 div.sk-text-repr-fallback {display: none;}</style><div id=\"sk-container-id-4\" class=\"sk-top-container\"><div class=\"sk-text-repr-fallback\"><pre>Pipeline(steps=[(&#x27;scale&#x27;, StandardScaler()),\n",
       "                (&#x27;polynomial&#x27;, PolynomialFeatures(include_bias=False)),\n",
       "                (&#x27;model&#x27;, LinearRegression())])</pre><b>In a Jupyter environment, please rerun this cell to show the HTML representation or trust the notebook. <br />On GitHub, the HTML representation is unable to render, please try loading this page with nbviewer.org.</b></div><div class=\"sk-container\" hidden><div class=\"sk-item sk-dashed-wrapped\"><div class=\"sk-label-container\"><div class=\"sk-label sk-toggleable\"><input class=\"sk-toggleable__control sk-hidden--visually\" id=\"sk-estimator-id-4\" type=\"checkbox\" ><label for=\"sk-estimator-id-4\" class=\"sk-toggleable__label sk-toggleable__label-arrow\">Pipeline</label><div class=\"sk-toggleable__content\"><pre>Pipeline(steps=[(&#x27;scale&#x27;, StandardScaler()),\n",
       "                (&#x27;polynomial&#x27;, PolynomialFeatures(include_bias=False)),\n",
       "                (&#x27;model&#x27;, LinearRegression())])</pre></div></div></div><div class=\"sk-serial\"><div class=\"sk-item\"><div class=\"sk-estimator sk-toggleable\"><input class=\"sk-toggleable__control sk-hidden--visually\" id=\"sk-estimator-id-5\" type=\"checkbox\" ><label for=\"sk-estimator-id-5\" class=\"sk-toggleable__label sk-toggleable__label-arrow\">StandardScaler</label><div class=\"sk-toggleable__content\"><pre>StandardScaler()</pre></div></div></div><div class=\"sk-item\"><div class=\"sk-estimator sk-toggleable\"><input class=\"sk-toggleable__control sk-hidden--visually\" id=\"sk-estimator-id-6\" type=\"checkbox\" ><label for=\"sk-estimator-id-6\" class=\"sk-toggleable__label sk-toggleable__label-arrow\">PolynomialFeatures</label><div class=\"sk-toggleable__content\"><pre>PolynomialFeatures(include_bias=False)</pre></div></div></div><div class=\"sk-item\"><div class=\"sk-estimator sk-toggleable\"><input class=\"sk-toggleable__control sk-hidden--visually\" id=\"sk-estimator-id-7\" type=\"checkbox\" ><label for=\"sk-estimator-id-7\" class=\"sk-toggleable__label sk-toggleable__label-arrow\">LinearRegression</label><div class=\"sk-toggleable__content\"><pre>LinearRegression()</pre></div></div></div></div></div></div></div>"
      ],
      "text/plain": [
       "Pipeline(steps=[('scale', StandardScaler()),\n",
       "                ('polynomial', PolynomialFeatures(include_bias=False)),\n",
       "                ('model', LinearRegression())])"
      ]
     },
     "execution_count": 47,
     "metadata": {},
     "output_type": "execute_result"
    }
   ],
   "source": [
    "#Create list of tuples:\n",
    "Input = [('scale', StandardScaler()), ('polynomial', PolynomialFeatures(include_bias=False)), ('model', LinearRegression())]\n",
    "pipe = Pipeline(Input)\n",
    "x = df[['age', 'gender', 'bmi', 'no_of_children', 'smoker', 'region']]\n",
    "y = df[['charges']]\n",
    "pipe.fit(x, y) #fit prediction and target"
   ]
  },
  {
   "cell_type": "code",
   "execution_count": 49,
   "id": "75afcba4-5933-4dd2-b38a-61a2bd61b27d",
   "metadata": {},
   "outputs": [
    {
     "data": {
      "text/plain": [
       "array([[23847.25],\n",
       "       [ 2822.75],\n",
       "       [ 5256.5 ],\n",
       "       ...,\n",
       "       [21707.25],\n",
       "       [ 2295.25],\n",
       "       [11902.5 ]])"
      ]
     },
     "execution_count": 49,
     "metadata": {},
     "output_type": "execute_result"
    }
   ],
   "source": [
    "#you can use the pipeline object for prediction\n",
    "pipe.predict(x)"
   ]
  },
  {
   "cell_type": "markdown",
   "id": "855d8984-98f5-496a-a975-abf7a7123dae",
   "metadata": {},
   "source": [
    "#### A reference I found helpful doing this project, check the link below: (Note that's in french) \n",
    "#### Vous pouvez consultez ce lien comme référence pour le régression linéaire:\n",
    "[Régression Linéare](https://fermin.perso.math.cnrs.fr/Files/Chap3.pdf)"
   ]
  },
  {
   "cell_type": "markdown",
   "id": "c47d2b3e-0b5a-40c0-ace2-e8a6d868a631",
   "metadata": {},
   "source": [
    "## **V) Model Refinement**"
   ]
  },
  {
   "cell_type": "markdown",
   "id": "79d11e88-253c-4cef-b76a-338701d971fc",
   "metadata": {},
   "source": [
    "We were workin in sample evaluation, and it's just tell us how well our model will fit the data used to train it, but it will not tell us how well the trained model can be used to predict new data. And here when it comes out of sample evaluation or test set. Simply we split data to training data, and testing data."
   ]
  },
  {
   "cell_type": "markdown",
   "id": "14e61517-f87d-42a4-89f9-8d06d0789483",
   "metadata": {},
   "source": [
    "*Split the data into training and testing subsets, assuming that 20% of the data will be reserved for testing.*"
   ]
  },
  {
   "cell_type": "code",
   "execution_count": 55,
   "id": "64bac02a-2c0e-4256-ab37-c397b2ff3412",
   "metadata": {},
   "outputs": [
    {
     "name": "stdout",
     "output_type": "stream",
     "text": [
      "Done\n"
     ]
    }
   ],
   "source": [
    "#using train_test_split\n",
    "x_train, x_test, y_train, y_test = train_test_split(x, y, test_size=0.2, random_state=1) #test size is the 20% data that will be reserved for testing\n",
    "print(\"Done\")"
   ]
  },
  {
   "cell_type": "markdown",
   "id": "2689939c-3481-4fec-b2c7-f9abdf0e2bc7",
   "metadata": {},
   "source": [
    "Initialize a Ridge regressor that used hyperparameter $ \\alpha = 0.1 $"
   ]
  },
  {
   "cell_type": "code",
   "execution_count": 60,
   "id": "5765f40e-1b1c-4b51-8487-3be38f55449f",
   "metadata": {},
   "outputs": [
    {
     "data": {
      "text/plain": [
       "array([[ 3.36240289e+04],\n",
       "       [ 2.05256412e+03],\n",
       "       [ 8.57740314e+03],\n",
       "       [ 3.37119233e+03],\n",
       "       [ 2.97574662e+04],\n",
       "       [ 2.78827664e+03],\n",
       "       [ 3.23867433e+04],\n",
       "       [ 4.36592582e+00],\n",
       "       [-1.13365351e+03],\n",
       "       [ 1.55324042e+04],\n",
       "       [ 7.30896627e+03],\n",
       "       [ 1.54573866e+04],\n",
       "       [ 1.28500545e+04],\n",
       "       [ 3.03976578e+04],\n",
       "       [ 1.32035353e+04],\n",
       "       [ 2.09640120e+03],\n",
       "       [ 1.37808512e+04],\n",
       "       [ 4.73766641e+03],\n",
       "       [ 1.44462593e+04],\n",
       "       [ 1.81541698e+04],\n",
       "       [ 1.34993143e+04],\n",
       "       [ 3.84729729e+03],\n",
       "       [ 4.90363830e+03],\n",
       "       [ 4.01573324e+04],\n",
       "       [ 2.87306145e+04],\n",
       "       [ 1.25954766e+04],\n",
       "       [ 3.81320796e+04],\n",
       "       [ 5.67604349e+03],\n",
       "       [ 1.26401918e+04],\n",
       "       [ 2.80107997e+04],\n",
       "       [ 1.35647013e+04],\n",
       "       [ 1.10489225e+04],\n",
       "       [ 2.89371076e+04],\n",
       "       [ 5.43415197e+03],\n",
       "       [ 1.26403007e+03],\n",
       "       [ 1.00922945e+04],\n",
       "       [ 4.04284356e+03],\n",
       "       [ 1.49688081e+04],\n",
       "       [ 1.15453745e+04],\n",
       "       [ 1.22129653e+04],\n",
       "       [ 1.11640172e+04],\n",
       "       [ 1.26256347e+04],\n",
       "       [ 2.35789815e+04],\n",
       "       [ 1.33074041e+04],\n",
       "       [ 4.68015269e+03],\n",
       "       [ 1.74579926e+03],\n",
       "       [ 3.58809374e+03],\n",
       "       [ 1.04357507e+04],\n",
       "       [ 1.18513521e+04],\n",
       "       [ 1.47070272e+04],\n",
       "       [ 2.86600108e+04],\n",
       "       [ 1.08700213e+04],\n",
       "       [ 1.01247443e+04],\n",
       "       [ 1.24977424e+04],\n",
       "       [ 5.61909431e+03],\n",
       "       [ 1.48266512e+04],\n",
       "       [ 1.02511788e+04],\n",
       "       [ 1.14066280e+04],\n",
       "       [ 4.56633742e+03],\n",
       "       [ 8.17220787e+03],\n",
       "       [ 1.65254278e+04],\n",
       "       [ 1.40092975e+04],\n",
       "       [ 1.18513521e+04],\n",
       "       [ 3.40429195e+04],\n",
       "       [ 3.86584135e+03],\n",
       "       [ 1.27417050e+04],\n",
       "       [ 2.61609630e+04],\n",
       "       [ 4.45453616e+03],\n",
       "       [ 3.81180122e+03],\n",
       "       [ 1.49908228e+03],\n",
       "       [ 3.59983900e+03],\n",
       "       [ 2.30833779e+03],\n",
       "       [ 1.16253716e+04],\n",
       "       [ 3.12081095e+04],\n",
       "       [ 3.10025747e+03],\n",
       "       [ 3.59184205e+04],\n",
       "       [ 5.39332829e+03],\n",
       "       [ 3.18300699e+04],\n",
       "       [ 9.92532227e+03],\n",
       "       [ 1.10134264e+04],\n",
       "       [ 2.61566380e+04],\n",
       "       [ 1.08165676e+04],\n",
       "       [ 2.84897794e+03],\n",
       "       [ 6.20367467e+03],\n",
       "       [ 9.42850831e+03],\n",
       "       [ 8.67970614e+03],\n",
       "       [ 2.99718046e+04],\n",
       "       [ 9.21630367e+03],\n",
       "       [ 8.99394806e+03],\n",
       "       [ 5.16229903e+03],\n",
       "       [ 3.36637842e+04],\n",
       "       [ 9.05831670e+03],\n",
       "       [ 1.40604435e+04],\n",
       "       [ 1.07907907e+04],\n",
       "       [ 5.82372022e+03],\n",
       "       [ 7.35163974e+03],\n",
       "       [ 1.71021715e+04],\n",
       "       [ 8.34969654e+03],\n",
       "       [ 5.67372808e+03],\n",
       "       [ 2.89226785e+03],\n",
       "       [ 1.84179675e+03],\n",
       "       [ 2.54675856e+03],\n",
       "       [ 1.53706505e+04],\n",
       "       [ 1.22019330e+04],\n",
       "       [-4.05038127e+02],\n",
       "       [ 2.97617826e+04],\n",
       "       [ 1.26401918e+04],\n",
       "       [ 4.91549890e+03],\n",
       "       [ 8.81974663e+03],\n",
       "       [ 9.92532227e+03],\n",
       "       [ 6.91933402e+03],\n",
       "       [ 1.03374132e+04],\n",
       "       [ 3.29330524e+04],\n",
       "       [ 3.38962663e+04],\n",
       "       [ 4.18362718e+01],\n",
       "       [ 1.77104146e+03],\n",
       "       [ 3.42388092e+04],\n",
       "       [ 4.04412302e+03],\n",
       "       [ 8.61061828e+03],\n",
       "       [ 1.97457739e+03],\n",
       "       [ 1.39986332e+04],\n",
       "       [ 3.99938956e+04],\n",
       "       [ 6.01025215e+03],\n",
       "       [ 9.34960584e+03],\n",
       "       [ 1.07564752e+04],\n",
       "       [ 1.71443454e+04],\n",
       "       [ 2.77452214e+04],\n",
       "       [ 5.77732674e+03],\n",
       "       [ 2.60552645e+03],\n",
       "       [ 1.08165676e+04],\n",
       "       [ 1.48584915e+04],\n",
       "       [ 7.35163974e+03],\n",
       "       [ 3.44374470e+03],\n",
       "       [ 5.01860116e+03],\n",
       "       [ 1.08070638e+04],\n",
       "       [ 6.20053371e+03],\n",
       "       [ 8.93273425e+03],\n",
       "       [ 1.50116146e+04],\n",
       "       [ 9.54266930e+03],\n",
       "       [ 1.31072193e+04],\n",
       "       [ 3.89041480e+03],\n",
       "       [ 1.16546407e+04],\n",
       "       [ 3.52678672e+04],\n",
       "       [ 3.02419771e+04],\n",
       "       [ 1.31519467e+04],\n",
       "       [ 5.08542262e+03],\n",
       "       [ 1.15462754e+04],\n",
       "       [ 3.17138976e+04],\n",
       "       [ 9.94496044e+03],\n",
       "       [ 1.53187133e+04],\n",
       "       [ 3.86886626e+04],\n",
       "       [ 1.18934539e+03],\n",
       "       [ 6.66222591e+03],\n",
       "       [ 1.10864857e+04],\n",
       "       [ 2.46361457e+04],\n",
       "       [ 1.19275967e+04],\n",
       "       [ 6.34859356e+03],\n",
       "       [ 1.93359813e+04],\n",
       "       [ 3.97847310e+03],\n",
       "       [ 1.53706505e+04],\n",
       "       [ 1.17558422e+04],\n",
       "       [ 6.57536391e+03],\n",
       "       [ 1.02511788e+04],\n",
       "       [ 6.66222591e+03],\n",
       "       [ 2.94431150e+04],\n",
       "       [ 7.68381448e+03],\n",
       "       [ 6.72395895e+03],\n",
       "       [ 8.27159151e+03],\n",
       "       [ 4.85591895e+03],\n",
       "       [ 1.60107517e+04],\n",
       "       [ 1.35809894e+04],\n",
       "       [-1.21541065e+03],\n",
       "       [ 1.45191745e+04],\n",
       "       [ 8.47281370e+03],\n",
       "       [ 4.67939735e+02],\n",
       "       [ 4.04083128e+04],\n",
       "       [ 1.02055227e+04],\n",
       "       [ 8.02357400e+03],\n",
       "       [ 8.24631162e+03],\n",
       "       [ 3.42479592e+04],\n",
       "       [ 9.62044898e+03],\n",
       "       [ 2.24281467e+03],\n",
       "       [ 1.14267726e+04],\n",
       "       [ 2.54888905e+02],\n",
       "       [ 8.66050954e+03],\n",
       "       [ 9.92759620e+03],\n",
       "       [ 5.46190225e+03],\n",
       "       [ 6.39846264e+03],\n",
       "       [ 5.12056353e+03],\n",
       "       [ 7.11045414e+03],\n",
       "       [ 9.95374320e+02],\n",
       "       [ 5.37826575e+03],\n",
       "       [ 3.51402647e+04],\n",
       "       [ 5.76511894e+03],\n",
       "       [ 9.54174985e+03],\n",
       "       [ 1.15544326e+04],\n",
       "       [ 1.23381168e+04],\n",
       "       [-1.74193065e+03],\n",
       "       [ 2.10103399e+03],\n",
       "       [ 1.19631593e+04],\n",
       "       [ 9.08431865e+03],\n",
       "       [ 6.71228325e+03],\n",
       "       [ 1.56086209e+04],\n",
       "       [ 5.55470627e+03],\n",
       "       [ 1.18591131e+04],\n",
       "       [ 9.96563108e+03],\n",
       "       [ 4.93120005e+03],\n",
       "       [ 3.23311568e+04],\n",
       "       [ 1.04007471e+04],\n",
       "       [ 4.11303772e+04],\n",
       "       [ 1.00333355e+04],\n",
       "       [ 8.66050954e+03],\n",
       "       [ 9.42160777e+03],\n",
       "       [ 4.87977151e+03],\n",
       "       [ 9.59117432e+03],\n",
       "       [ 1.23589324e+04],\n",
       "       [ 1.46458206e+04],\n",
       "       [ 6.63302701e+03],\n",
       "       [ 8.36476644e+03],\n",
       "       [ 1.72426095e+03],\n",
       "       [ 1.43415129e+04],\n",
       "       [ 7.11045414e+03],\n",
       "       [ 5.70187258e+03],\n",
       "       [ 7.78525076e+03],\n",
       "       [ 1.02554381e+04],\n",
       "       [ 1.39986332e+04],\n",
       "       [ 5.67604349e+03],\n",
       "       [ 3.17712294e+04],\n",
       "       [ 3.41679779e+04],\n",
       "       [ 6.40751701e+03],\n",
       "       [ 8.17220787e+03],\n",
       "       [ 9.88010330e+03],\n",
       "       [-2.34002191e+02],\n",
       "       [ 1.54865679e+04],\n",
       "       [ 3.02294320e+03],\n",
       "       [ 1.26693953e+04],\n",
       "       [ 1.45576840e+04],\n",
       "       [ 7.38099340e+03],\n",
       "       [ 3.42829758e+04],\n",
       "       [ 2.73001403e+04],\n",
       "       [ 3.55150493e+03],\n",
       "       [ 7.22715648e+03],\n",
       "       [ 1.05104592e+04],\n",
       "       [ 6.62387170e+03],\n",
       "       [ 1.55412026e+04],\n",
       "       [ 3.32636323e+03],\n",
       "       [ 1.01539689e+04],\n",
       "       [-1.21541065e+03],\n",
       "       [ 2.83999743e+04],\n",
       "       [ 3.60594466e+04],\n",
       "       [ 2.17707737e+03],\n",
       "       [ 8.34969654e+03],\n",
       "       [ 9.09949646e+03],\n",
       "       [ 5.08542262e+03],\n",
       "       [ 1.97457739e+03],\n",
       "       [ 1.14177933e+04],\n",
       "       [ 8.39622148e+03],\n",
       "       [ 2.24281467e+03],\n",
       "       [-1.06470154e+03],\n",
       "       [ 4.17697252e+03],\n",
       "       [ 5.02123932e+03],\n",
       "       [ 5.75656619e+03],\n",
       "       [ 5.45931536e+03],\n",
       "       [ 6.92421984e+03],\n",
       "       [ 3.63996232e+04],\n",
       "       [ 1.64128938e+04],\n",
       "       [ 2.27688804e+03],\n",
       "       [ 7.96791314e+03],\n",
       "       [ 1.38028660e+04],\n",
       "       [ 5.73880686e+03],\n",
       "       [ 1.76983952e+04],\n",
       "       [ 6.75042373e+03],\n",
       "       [ 2.14668087e+03],\n",
       "       [ 3.04131970e+04],\n",
       "       [ 1.31031364e+04],\n",
       "       [ 1.76983952e+04],\n",
       "       [ 1.15049455e+04],\n",
       "       [ 8.80145720e+03],\n",
       "       [ 1.12128873e+04],\n",
       "       [ 7.12026738e+03],\n",
       "       [ 4.04412302e+03],\n",
       "       [ 2.17707737e+03],\n",
       "       [ 3.04131970e+04],\n",
       "       [ 5.43415197e+03],\n",
       "       [ 3.88592690e+03],\n",
       "       [ 1.27417050e+04],\n",
       "       [ 2.36631354e+03],\n",
       "       [ 3.15653042e+04],\n",
       "       [ 2.65031557e+04],\n",
       "       [ 1.48507214e+04],\n",
       "       [ 3.12870954e+04],\n",
       "       [ 8.68902487e+03],\n",
       "       [ 1.22129653e+04],\n",
       "       [ 1.01462401e+04],\n",
       "       [ 3.16258174e+04],\n",
       "       [ 3.81180122e+03],\n",
       "       [ 3.84729729e+03],\n",
       "       [ 3.06676157e+04],\n",
       "       [ 3.34763009e+04],\n",
       "       [ 1.14004166e+04],\n",
       "       [ 3.11619636e+04],\n",
       "       [ 1.53370972e+03],\n",
       "       [ 1.00313732e+04],\n",
       "       [ 1.43438644e+02],\n",
       "       [ 3.31352341e+03],\n",
       "       [ 9.35219273e+03],\n",
       "       [ 9.81370279e+03],\n",
       "       [ 2.99605114e+03],\n",
       "       [ 3.96416202e+03],\n",
       "       [ 8.22984491e+03],\n",
       "       [ 4.77162765e+03],\n",
       "       [ 9.81370279e+03],\n",
       "       [ 3.43281064e+04],\n",
       "       [ 1.41145800e+04],\n",
       "       [ 1.15049455e+04],\n",
       "       [ 2.64054742e+04],\n",
       "       [ 3.78285199e+04],\n",
       "       [ 1.46409983e+04],\n",
       "       [ 8.77070787e+03],\n",
       "       [ 9.64061776e+03],\n",
       "       [ 1.44719618e+04],\n",
       "       [ 7.05646087e+03],\n",
       "       [ 1.08470833e+04],\n",
       "       [ 4.55702726e+03],\n",
       "       [ 4.11303772e+04],\n",
       "       [ 1.24224195e+04],\n",
       "       [ 9.96563108e+03],\n",
       "       [ 1.38955742e+04],\n",
       "       [ 3.57483461e+04],\n",
       "       [ 1.19930352e+04],\n",
       "       [ 5.74766529e+03],\n",
       "       [ 2.96296469e+03],\n",
       "       [ 1.96930106e+03],\n",
       "       [ 1.55972882e+04],\n",
       "       [ 7.38477238e+03],\n",
       "       [ 1.26893052e+04],\n",
       "       [ 4.69569909e+03],\n",
       "       [ 3.15591376e+03],\n",
       "       [ 3.13266332e+04],\n",
       "       [ 3.18986131e+04],\n",
       "       [ 1.60999864e+04],\n",
       "       [ 1.71948122e+04],\n",
       "       [ 7.21964986e+03],\n",
       "       [ 3.42507818e+04],\n",
       "       [ 2.13457102e+03],\n",
       "       [ 7.19113794e+03],\n",
       "       [ 1.01646084e+04],\n",
       "       [ 1.10918244e+04],\n",
       "       [ 3.89673883e+03],\n",
       "       [ 1.51353133e+02],\n",
       "       [ 3.37312961e+04],\n",
       "       [ 3.48227982e+03],\n",
       "       [ 3.36170573e+04],\n",
       "       [ 9.31757472e+03],\n",
       "       [ 3.32969810e+03],\n",
       "       [ 5.05262870e+03],\n",
       "       [ 1.21431066e+04],\n",
       "       [ 3.70864994e+03],\n",
       "       [ 1.72567308e+04],\n",
       "       [ 1.49851561e+04],\n",
       "       [ 9.08431865e+03],\n",
       "       [ 1.11892869e+04],\n",
       "       [ 5.23138688e+03],\n",
       "       [ 8.67746219e+03],\n",
       "       [ 1.50265369e+04],\n",
       "       [ 3.07872861e+04],\n",
       "       [ 7.91862150e+03],\n",
       "       [ 1.54865679e+04],\n",
       "       [ 5.49229156e+03],\n",
       "       [ 1.32165466e+04],\n",
       "       [ 2.74105411e+04],\n",
       "       [ 2.30833779e+03],\n",
       "       [ 7.98660906e+03],\n",
       "       [ 1.41816617e+04],\n",
       "       [ 9.34712114e+03],\n",
       "       [ 1.11774809e+04],\n",
       "       [ 2.14121229e+03],\n",
       "       [ 1.47184768e+04],\n",
       "       [ 1.02163722e+04],\n",
       "       [ 1.19047334e+04],\n",
       "       [ 9.34873679e+03],\n",
       "       [ 2.65636105e+04],\n",
       "       [ 5.77500770e+03],\n",
       "       [ 1.19441305e+04],\n",
       "       [ 1.20281856e+04],\n",
       "       [ 1.28373554e+04],\n",
       "       [ 6.28777882e+03],\n",
       "       [ 3.04914039e+04],\n",
       "       [ 3.90308591e+04],\n",
       "       [ 2.61566380e+04],\n",
       "       [ 4.49625088e+03],\n",
       "       [ 3.38204610e+03],\n",
       "       [ 3.51402647e+04],\n",
       "       [ 4.87954368e+03],\n",
       "       [ 3.60408066e+04],\n",
       "       [ 2.44825350e+03],\n",
       "       [ 1.41145800e+04],\n",
       "       [ 1.06661189e+04],\n",
       "       [ 1.55369425e+04],\n",
       "       [ 2.88928479e+04],\n",
       "       [ 9.77898572e+03],\n",
       "       [ 3.81373410e+03],\n",
       "       [ 1.48266512e+04],\n",
       "       [ 2.58075207e+04],\n",
       "       [ 6.12901076e+03],\n",
       "       [ 1.45764820e+04],\n",
       "       [ 6.73717540e+03],\n",
       "       [ 6.81807155e+03],\n",
       "       [ 2.10492831e+03],\n",
       "       [ 3.22675842e+04],\n",
       "       [ 6.96326358e+03],\n",
       "       [ 2.88274877e+04],\n",
       "       [ 3.84417434e+03],\n",
       "       [ 2.66602947e+04],\n",
       "       [ 1.10919748e+04],\n",
       "       [ 1.22292269e+04],\n",
       "       [ 1.27503575e+04],\n",
       "       [ 1.92319526e+03],\n",
       "       [ 1.27273108e+04],\n",
       "       [ 3.00215964e+04],\n",
       "       [ 7.19342233e+03],\n",
       "       [ 2.93039967e+04],\n",
       "       [ 2.97617826e+04],\n",
       "       [ 8.99578922e+03],\n",
       "       [ 7.00542517e+03],\n",
       "       [ 9.25670472e+03],\n",
       "       [ 1.49908228e+03],\n",
       "       [ 2.10236705e+03],\n",
       "       [ 3.39214850e+04],\n",
       "       [ 3.18300699e+04],\n",
       "       [ 3.59997606e+04],\n",
       "       [ 1.29532963e+04],\n",
       "       [ 6.13195722e+03],\n",
       "       [ 1.15890739e+04],\n",
       "       [ 2.76002084e+04],\n",
       "       [ 1.19047334e+04],\n",
       "       [ 9.42446962e+03],\n",
       "       [ 1.18182999e+04],\n",
       "       [-1.02109387e+03],\n",
       "       [ 9.20416448e+03],\n",
       "       [ 2.85122188e+03],\n",
       "       [ 4.87977151e+03],\n",
       "       [ 9.16060236e+03],\n",
       "       [ 2.84897794e+03],\n",
       "       [ 3.36240289e+04],\n",
       "       [ 1.63622620e+04],\n",
       "       [ 3.29368066e+04],\n",
       "       [ 4.79331223e+03],\n",
       "       [ 2.93039967e+04],\n",
       "       [ 1.82326838e+03],\n",
       "       [ 2.30702020e+04],\n",
       "       [ 2.98674468e+03],\n",
       "       [ 5.93846214e+03],\n",
       "       [ 7.43865955e+03],\n",
       "       [ 3.18989935e+04],\n",
       "       [ 8.99248282e+03],\n",
       "       [ 5.58440425e+03],\n",
       "       [ 2.14121229e+03],\n",
       "       [ 1.64870565e+04],\n",
       "       [ 8.47733094e+03],\n",
       "       [ 3.29447678e+04],\n",
       "       [ 6.72355107e+03],\n",
       "       [ 1.19294157e+04],\n",
       "       [ 4.55702726e+03],\n",
       "       [ 1.40604435e+04],\n",
       "       [ 6.13195722e+03],\n",
       "       [ 1.40350497e+04],\n",
       "       [ 4.79331223e+03],\n",
       "       [ 3.54289658e+04],\n",
       "       [ 4.45983049e+03],\n",
       "       [ 8.62045507e+03],\n",
       "       [ 3.38962663e+04],\n",
       "       [ 1.12739220e+04],\n",
       "       [ 1.49908228e+03],\n",
       "       [ 9.05831670e+03],\n",
       "       [ 2.69496310e+04],\n",
       "       [ 1.65005066e+03],\n",
       "       [ 3.25080176e+04],\n",
       "       [ 1.39812912e+04],\n",
       "       [ 3.11619636e+04],\n",
       "       [ 1.85539354e+03],\n",
       "       [ 1.41671313e+04],\n",
       "       [ 8.62045507e+03],\n",
       "       [ 1.53187133e+04],\n",
       "       [ 3.36170573e+04],\n",
       "       [ 9.05303414e+03],\n",
       "       [ 5.47709088e+03],\n",
       "       [ 8.88095471e+03],\n",
       "       [ 1.06888440e+04],\n",
       "       [ 8.86473266e+03],\n",
       "       [ 6.43440929e+03],\n",
       "       [ 3.78759860e+03],\n",
       "       [ 2.66602947e+04],\n",
       "       [ 6.23108825e+03],\n",
       "       [ 2.23433224e+03],\n",
       "       [ 9.63144712e+03],\n",
       "       [ 7.78525076e+03],\n",
       "       [ 2.77586620e+03],\n",
       "       [ 8.99394806e+03],\n",
       "       [ 6.94623256e+03],\n",
       "       [ 8.85268289e+03],\n",
       "       [ 2.70728806e+04],\n",
       "       [ 1.63132694e+04],\n",
       "       [ 6.18612698e+03],\n",
       "       [ 1.54505355e+04],\n",
       "       [ 2.36631354e+03],\n",
       "       [ 1.02554381e+04],\n",
       "       [ 1.51871304e+04],\n",
       "       [ 4.43737992e+03],\n",
       "       [ 1.15784002e+04],\n",
       "       [ 2.77452214e+04],\n",
       "       [ 8.68791317e+03],\n",
       "       [ 5.97317602e+03],\n",
       "       [ 5.47709088e+03],\n",
       "       [ 3.12836191e+01],\n",
       "       [ 6.56585316e+03],\n",
       "       [ 1.09929593e+04],\n",
       "       [ 3.20799062e+02],\n",
       "       [ 6.05260184e+03],\n",
       "       [ 6.39846264e+03],\n",
       "       [ 1.40917024e+04],\n",
       "       [ 3.04914039e+04],\n",
       "       [ 1.25056037e+04],\n",
       "       [ 5.68908084e+03],\n",
       "       [ 7.96197293e+03],\n",
       "       [ 1.02092845e+04],\n",
       "       [ 7.42467891e+03],\n",
       "       [ 8.39161908e+02],\n",
       "       [ 2.02239565e+03],\n",
       "       [ 1.77540690e+03],\n",
       "       [ 9.45663800e+03],\n",
       "       [ 3.35140234e+04],\n",
       "       [ 1.03661767e+04],\n",
       "       [ 9.54174985e+03],\n",
       "       [ 3.68358546e+04],\n",
       "       [ 3.89795308e+03],\n",
       "       [ 4.72153093e+02],\n",
       "       [ 1.24050918e+04],\n",
       "       [ 2.57061690e+04],\n",
       "       [ 7.12026738e+03],\n",
       "       [ 4.67576075e+03],\n",
       "       [ 1.22233236e+04],\n",
       "       [ 8.68791317e+03],\n",
       "       [ 1.19047334e+04],\n",
       "       [ 8.41563234e+03],\n",
       "       [ 1.01389981e+04],\n",
       "       [ 9.97533894e+03],\n",
       "       [ 1.08244486e+04],\n",
       "       [ 2.72282383e+03],\n",
       "       [ 6.57536391e+03],\n",
       "       [ 3.22369789e+03],\n",
       "       [ 9.05303414e+03],\n",
       "       [ 3.81358724e+04],\n",
       "       [ 7.91862150e+03],\n",
       "       [ 3.07922824e+04]])"
      ]
     },
     "execution_count": 60,
     "metadata": {},
     "output_type": "execute_result"
    }
   ],
   "source": [
    "RidgeModel=Ridge(alpha=0.1)\n",
    "RidgeModel.fit(x_train, y_train)\n",
    "#use it for prediction\n",
    "prediction = RidgeModel.predict(x_test)\n",
    "prediction"
   ]
  },
  {
   "cell_type": "code",
   "execution_count": 63,
   "id": "71758b09-6281-4ea4-9554-d8e77932c57b",
   "metadata": {},
   "outputs": [
    {
     "data": {
      "text/plain": [
       "0.6760802462837339"
      ]
     },
     "execution_count": 63,
     "metadata": {},
     "output_type": "execute_result"
    }
   ],
   "source": [
    "#score or R square \n",
    "r2_score(y_test, prediction)"
   ]
  },
  {
   "cell_type": "markdown",
   "id": "3c795305-32bc-466b-99d0-09c51e53517f",
   "metadata": {},
   "source": [
    "## Exercice:\n",
    "### Apply polynomial transformation to the training parameters with degree=2. Use this transformed feature set to fit the same regression model, as above, using the training subset. Print the $ R^2 $ score for the testing subset.\n"
   ]
  },
  {
   "cell_type": "markdown",
   "id": "cf444a51-1bbd-484a-be53-707ace312876",
   "metadata": {},
   "source": [
    "If any, you can contact me on LinkedIn:\n",
    "### **[Abdessamd Touzani](https://www.linkedin.com/in/abdessamadtouzani/)**"
   ]
  }
 ],
 "metadata": {
  "kernelspec": {
   "display_name": "Python 3 (ipykernel)",
   "language": "python",
   "name": "python3"
  },
  "language_info": {
   "codemirror_mode": {
    "name": "ipython",
    "version": 3
   },
   "file_extension": ".py",
   "mimetype": "text/x-python",
   "name": "python",
   "nbconvert_exporter": "python",
   "pygments_lexer": "ipython3",
   "version": "3.11.5"
  }
 },
 "nbformat": 4,
 "nbformat_minor": 5
}
