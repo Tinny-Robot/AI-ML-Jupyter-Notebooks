# Import necessary libraries
import pandas as pd
from sklearn.model_selection import train_test_split, cross_val_score
from sklearn.feature_extraction.text import TfidfVectorizer
from sklearn.naive_bayes import MultinomialNB
from sklearn.metrics import accuracy_score, classification_report, confusion_matrix
from sklearn.model_selection import GridSearchCV

# Load a sample dataset (you can replace this with your own dataset)
data = pd.read_csv("sample_data.csv")

# Split the dataset into training and testing sets
X_train, X_test, y_train, y_test = train_test_split(data['text'], data['label'], test_size=0.2, random_state=42)

# Vectorize the text data using TF-IDF Vectorizer
tfidf_vectorizer = TfidfVectorizer()
X_train_vec = tfidf_vectorizer.fit_transform(X_train)
X_test_vec = tfidf_vectorizer.transform(X_test)

# Grid search for hyperparameter tuning
param_grid = {'alpha': [0.1, 1.0, 10.0]}
grid_search = GridSearchCV(MultinomialNB(), param_grid, cv=5)
grid_search.fit(X_train_vec, y_train)
best_alpha = grid_search.best_params_['alpha']

# Train a Naive Bayes classifier with the best hyperparameters
classifier = MultinomialNB(alpha=best_alpha)
classifier.fit(X_train_vec, y_train)

# Make predictions on the test data
y_pred = classifier.predict(X_test_vec)

# Calculate and print the accuracy
accuracy = accuracy_score(y_test, y_pred)
print(f"Accuracy: {accuracy:.2f}")

# Cross-validation to assess model performance
cross_val_scores = cross_val_score(classifier, X_train_vec, y_train, cv=5)
print(f"Cross-Validation Scores: {cross_val_scores}")

# Print classification report and confusion matrix
print("Classification Report:")
print(classification_report(y_test, y_pred))

print("Confusion Matrix:")
print(confusion_matrix(y_test, y_pred))

# You can also provide a function to classify new text
def classify_text(text):
    text_vec = tfidf_vectorizer.transform([text])
    prediction = classifier.predict(text_vec)
    return prediction[0]

# Example usage
new_text = "Get a free iPhone now!"
result = classify_text(new_text)
if result == 1:
    print("This is spam.")
else:
    print("This is not spam.")
